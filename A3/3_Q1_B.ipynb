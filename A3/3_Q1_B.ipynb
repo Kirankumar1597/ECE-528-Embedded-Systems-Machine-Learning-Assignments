{
 "cells": [
  {
   "cell_type": "code",
   "execution_count": null,
   "metadata": {
    "id": "n1hcKOUW28HR"
   },
   "outputs": [],
   "source": [
    "import tensorflow as tf\n",
    "import numpy as np\n",
    "import pandas as pd\n",
    "import matplotlib.pyplot as plt\n",
    "from tensorflow import keras\n",
    "import os\n",
    "import pathlib\n",
    "import zipfile\n",
    "import tempfile\n",
    "import math"
   ]
  },
  {
   "cell_type": "code",
   "execution_count": null,
   "metadata": {
    "colab": {
     "base_uri": "https://localhost:8080/"
    },
    "id": "-IaTU7hG2_E8",
    "outputId": "6cb3af23-0a41-4b74-c385-e198380bcaca"
   },
   "outputs": [
    {
     "name": "stdout",
     "output_type": "stream",
     "text": [
      "Drive already mounted at /drive; to attempt to forcibly remount, call drive.mount(\"/drive\", force_remount=True).\n"
     ]
    }
   ],
   "source": [
    "from google.colab import drive\n",
    "drive.mount ('/drive')"
   ]
  },
  {
   "cell_type": "code",
   "execution_count": null,
   "metadata": {
    "id": "kAyLOZ0L3wqO"
   },
   "outputs": [],
   "source": [
    "train = pd.read_csv('/drive/My Drive/sign_mnist_train.csv')\n",
    "test = pd.read_csv('/drive/My Drive/sign_mnist_test.csv')"
   ]
  },
  {
   "cell_type": "code",
   "execution_count": null,
   "metadata": {
    "id": "S-UYZpNZ7PQs"
   },
   "outputs": [],
   "source": [
    "x_train = train.drop(['pixel1'], axis=1).values\n",
    "y_train = train['label'].values\n",
    "x_test = test.drop(['pixel1'], axis=1).values\n",
    "y_test = test['label'].values\n",
    "x_train = x_train / 255\n",
    "x_test = x_test / 255"
   ]
  },
  {
   "cell_type": "code",
   "execution_count": null,
   "metadata": {
    "id": "_rHsvnk_R0oB"
   },
   "outputs": [],
   "source": [
    "x_train = np.array(x_train)\n",
    "x_test = np.array(x_test)\n",
    "x_train = x_train.reshape(x_train.shape[0],28,28,1)\n",
    "x_test = x_test.reshape(x_test.shape[0],28,28,1)"
   ]
  },
  {
   "cell_type": "code",
   "execution_count": null,
   "metadata": {
    "id": "FQLihmgn_ibv"
   },
   "outputs": [],
   "source": [
    "model = keras.Sequential([\n",
    "        keras.layers.InputLayer(input_shape=(28, 28, 1)),\n",
    "        keras.layers.Reshape(target_shape=(28, 28, 1)),\n",
    "        keras.layers.Conv2D(filters=16, kernel_size=(3,3), activation=tf.nn.relu, padding='same'),\n",
    "        \n",
    "        keras.layers.Conv2D(filters=32, kernel_size=(6,6), activation=tf.nn.relu, padding='same'),\n",
    "        \n",
    "        keras.layers.Conv2D(filters=64, kernel_size=(12,12), activation=tf.nn.relu, padding='same'),\n",
    "\n",
    "        keras.layers.MaxPooling2D(pool_size=(2,2)),\n",
    "        keras.layers.Flatten(),\n",
    "        keras.layers.Dense(1024, activation='relu'),\n",
    "        keras.layers.Dropout(0.20),\n",
    "        keras.layers.Dense(25, activation='softmax')                  \n",
    "])"
   ]
  },
  {
   "cell_type": "code",
   "execution_count": null,
   "metadata": {
    "id": "XMcbWXpw_m0Q"
   },
   "outputs": [],
   "source": [
    "model.compile(optimizer='adam',\n",
    "          loss='sparse_categorical_crossentropy',\n",
    "          metrics=['accuracy'])"
   ]
  },
  {
   "cell_type": "code",
   "execution_count": null,
   "metadata": {
    "colab": {
     "base_uri": "https://localhost:8080/"
    },
    "id": "wpN5PF8OGqgF",
    "outputId": "5080e2d5-8014-4bb0-8c88-552acbf56c80"
   },
   "outputs": [
    {
     "name": "stdout",
     "output_type": "stream",
     "text": [
      "Epoch 1/10\n",
      "858/858 [==============================] - 8s 8ms/step - loss: 0.4470 - accuracy: 0.8633 - val_loss: 0.4088 - val_accuracy: 0.8900\n",
      "Epoch 2/10\n",
      "858/858 [==============================] - 6s 7ms/step - loss: 0.0043 - accuracy: 0.9988 - val_loss: 0.4187 - val_accuracy: 0.9172\n",
      "Epoch 3/10\n",
      "858/858 [==============================] - 6s 7ms/step - loss: 0.0205 - accuracy: 0.9936 - val_loss: 0.6241 - val_accuracy: 0.8826\n",
      "Epoch 4/10\n",
      "858/858 [==============================] - 6s 7ms/step - loss: 0.0106 - accuracy: 0.9969 - val_loss: 0.3664 - val_accuracy: 0.9137\n",
      "Epoch 5/10\n",
      "858/858 [==============================] - 6s 7ms/step - loss: 0.0135 - accuracy: 0.9962 - val_loss: 0.6008 - val_accuracy: 0.8678\n",
      "Epoch 6/10\n",
      "858/858 [==============================] - 6s 7ms/step - loss: 0.0062 - accuracy: 0.9982 - val_loss: 0.4250 - val_accuracy: 0.9274\n",
      "Epoch 7/10\n",
      "858/858 [==============================] - 6s 7ms/step - loss: 0.0152 - accuracy: 0.9959 - val_loss: 0.7044 - val_accuracy: 0.8999\n",
      "Epoch 8/10\n",
      "858/858 [==============================] - 6s 7ms/step - loss: 0.0018 - accuracy: 0.9995 - val_loss: 0.5170 - val_accuracy: 0.9448\n",
      "Epoch 9/10\n",
      "858/858 [==============================] - 6s 7ms/step - loss: 2.0754e-05 - accuracy: 1.0000 - val_loss: 0.4956 - val_accuracy: 0.9423\n",
      "Epoch 10/10\n",
      "858/858 [==============================] - 6s 7ms/step - loss: 1.5252e-05 - accuracy: 1.0000 - val_loss: 0.5006 - val_accuracy: 0.9456\n"
     ]
    },
    {
     "data": {
      "text/plain": [
       "<keras.callbacks.History at 0x7f7a303eca90>"
      ]
     },
     "execution_count": 8,
     "metadata": {},
     "output_type": "execute_result"
    }
   ],
   "source": [
    "model.fit(x_train, y_train, epochs=10,validation_data=(x_test, y_test))"
   ]
  },
  {
   "cell_type": "code",
   "execution_count": null,
   "metadata": {
    "colab": {
     "base_uri": "https://localhost:8080/"
    },
    "id": "oscp8gVHUy65",
    "outputId": "3b6130d3-c284-4242-d49e-464c096b2034"
   },
   "outputs": [
    {
     "name": "stdout",
     "output_type": "stream",
     "text": [
      "Model: \"sequential\"\n",
      "_________________________________________________________________\n",
      "Layer (type)                 Output Shape              Param #   \n",
      "=================================================================\n",
      "reshape (Reshape)            (None, 28, 28, 1)         0         \n",
      "_________________________________________________________________\n",
      "conv2d (Conv2D)              (None, 28, 28, 16)        160       \n",
      "_________________________________________________________________\n",
      "conv2d_1 (Conv2D)            (None, 28, 28, 32)        18464     \n",
      "_________________________________________________________________\n",
      "conv2d_2 (Conv2D)            (None, 28, 28, 64)        294976    \n",
      "_________________________________________________________________\n",
      "max_pooling2d (MaxPooling2D) (None, 14, 14, 64)        0         \n",
      "_________________________________________________________________\n",
      "flatten (Flatten)            (None, 12544)             0         \n",
      "_________________________________________________________________\n",
      "dense (Dense)                (None, 1024)              12846080  \n",
      "_________________________________________________________________\n",
      "dropout (Dropout)            (None, 1024)              0         \n",
      "_________________________________________________________________\n",
      "dense_1 (Dense)              (None, 25)                25625     \n",
      "=================================================================\n",
      "Total params: 13,185,305\n",
      "Trainable params: 13,185,305\n",
      "Non-trainable params: 0\n",
      "_________________________________________________________________\n"
     ]
    }
   ],
   "source": [
    "model.summary()"
   ]
  },
  {
   "cell_type": "code",
   "execution_count": null,
   "metadata": {
    "colab": {
     "base_uri": "https://localhost:8080/"
    },
    "id": "QxhxSO_TG3JR",
    "outputId": "daed1e64-e299-4a29-c573-a8b5ff18a75f"
   },
   "outputs": [
    {
     "name": "stdout",
     "output_type": "stream",
     "text": [
      "225/225 - 1s - loss: 0.5006 - accuracy: 0.9456\n",
      "\n",
      "Test accuracy: 0.9456218481063843\n"
     ]
    }
   ],
   "source": [
    "test_loss, test_acc = model.evaluate(x_test,  y_test, verbose=2)\n",
    "print('\\nTest accuracy:', test_acc)"
   ]
  },
  {
   "cell_type": "code",
   "execution_count": null,
   "metadata": {
    "colab": {
     "base_uri": "https://localhost:8080/"
    },
    "id": "fLY-OCediQYa",
    "outputId": "564046a4-0fe4-41d8-a689-6b473f0fa872"
   },
   "outputs": [
    {
     "name": "stdout",
     "output_type": "stream",
     "text": [
      "INFO:tensorflow:Assets written to: /tmp/tmpg583v9h_/assets\n"
     ]
    }
   ],
   "source": [
    "converter = tf.lite.TFLiteConverter.from_keras_model(model)\n",
    "tflite_model = converter.convert()"
   ]
  },
  {
   "cell_type": "code",
   "execution_count": null,
   "metadata": {
    "id": "BXDKyAm6gIf8"
   },
   "outputs": [],
   "source": [
    "tflite_models_dir = pathlib.Path(\"/tmp/mnist_tflite_models/\")\n",
    "tflite_models_dir.mkdir(exist_ok=True, parents=True)"
   ]
  },
  {
   "cell_type": "code",
   "execution_count": null,
   "metadata": {
    "colab": {
     "base_uri": "https://localhost:8080/"
    },
    "id": "B_U2cCGWgmje",
    "outputId": "e860c64f-3eaa-4d62-ca8b-e3792e8c79fa"
   },
   "outputs": [
    {
     "data": {
      "text/plain": [
       "52744584"
      ]
     },
     "execution_count": 13,
     "metadata": {},
     "output_type": "execute_result"
    }
   ],
   "source": [
    "tflite_model_file = tflite_models_dir/\"sign_mnist.tflite\"\n",
    "tflite_model_file.write_bytes(tflite_model)"
   ]
  },
  {
   "cell_type": "code",
   "execution_count": null,
   "metadata": {
    "colab": {
     "base_uri": "https://localhost:8080/"
    },
    "id": "G7g3Tp6lLdpH",
    "outputId": "28d9c392-0b6d-4ce5-d26c-823b5d783017"
   },
   "outputs": [
    {
     "name": "stdout",
     "output_type": "stream",
     "text": [
      "INFO:tensorflow:Assets written to: /tmp/tmpruqu6dnt/assets\n"
     ]
    },
    {
     "name": "stderr",
     "output_type": "stream",
     "text": [
      "INFO:tensorflow:Assets written to: /tmp/tmpruqu6dnt/assets\n"
     ]
    },
    {
     "data": {
      "text/plain": [
       "13194880"
      ]
     },
     "execution_count": 14,
     "metadata": {},
     "output_type": "execute_result"
    }
   ],
   "source": [
    "converter.optimizations = [tf.lite.Optimize.DEFAULT]\n",
    "tflite_quant_model = converter.convert()\n",
    "tflite_model_quant_file = tflite_models_dir/\"sign_mnist_quant_dyn.tflite\"\n",
    "tflite_model_quant_file.write_bytes(tflite_quant_model)"
   ]
  },
  {
   "cell_type": "code",
   "execution_count": null,
   "metadata": {
    "colab": {
     "base_uri": "https://localhost:8080/"
    },
    "id": "Psk-r4hgNlsU",
    "outputId": "736d0f88-442f-4d10-9424-cc8bcb46a14d"
   },
   "outputs": [
    {
     "name": "stdout",
     "output_type": "stream",
     "text": [
      "total 76M\n",
      "-rw-r--r-- 1 root root 13M Oct 11 04:16 sign_mnist_model_quant_dyn.tflite\n",
      "-rw-r--r-- 1 root root 13M Oct 11 04:29 sign_mnist_quant_dyn.tflite\n",
      "-rw-r--r-- 1 root root 51M Oct 11 04:29 sign_mnist.tflite\n"
     ]
    }
   ],
   "source": [
    "ls -lh {tflite_models_dir}"
   ]
  },
  {
   "cell_type": "code",
   "execution_count": null,
   "metadata": {
    "id": "_Q3EAouxNqDK"
   },
   "outputs": [],
   "source": [
    "interpreter = tf.lite.Interpreter(model_path=str(tflite_model_file))\n",
    "interpreter.allocate_tensors()"
   ]
  },
  {
   "cell_type": "code",
   "execution_count": null,
   "metadata": {
    "id": "JTXzvAIVmsW0"
   },
   "outputs": [],
   "source": [
    "interpreter_quant = tf.lite.Interpreter(model_path=str(tflite_model_quant_file))\n",
    "interpreter_quant.allocate_tensors()"
   ]
  },
  {
   "cell_type": "code",
   "execution_count": null,
   "metadata": {
    "id": "sJ42XzjrODWS"
   },
   "outputs": [],
   "source": [
    "# A helper function to evaluate the TF Lite model using \"test\" dataset.\n",
    "def evaluate_model(interpreter):\n",
    "  input_index = interpreter.get_input_details()[0][\"index\"]\n",
    "  output_index = interpreter.get_output_details()[0][\"index\"]\n",
    "\n",
    "  # Run predictions on every image in the \"test\" dataset.\n",
    "  prediction_digits = []\n",
    "  for test_image in x_test:\n",
    "    # Pre-processing: add batch dimension and convert to float32 to match with\n",
    "    # the model's input data format.\n",
    "    test_image = np.expand_dims(test_image, axis=0).astype(np.float32)\n",
    "    interpreter.set_tensor(input_index, test_image)\n",
    "\n",
    "    # Run inference.\n",
    "    interpreter.invoke()\n",
    "\n",
    "    # Post-processing: remove batch dimension and find the digit with highest\n",
    "    # probability.\n",
    "    output = interpreter.tensor(output_index)\n",
    "    digit = np.argmax(output()[0])\n",
    "    prediction_digits.append(digit)\n",
    "\n",
    "  # Compare prediction results with ground truth labels to calculate accuracy.\n",
    "  accurate_count = 0\n",
    "  for index in range(len(prediction_digits)):\n",
    "    if prediction_digits[index] == y_test[index]:\n",
    "      accurate_count += 1\n",
    "  accuracy = accurate_count * 1.0 / len(prediction_digits)\n",
    "\n",
    "  return accuracy"
   ]
  },
  {
   "cell_type": "code",
   "execution_count": null,
   "metadata": {
    "colab": {
     "base_uri": "https://localhost:8080/"
    },
    "id": "r1rsxjXJPF2i",
    "outputId": "b6f2facf-54a7-4c01-c1da-a2731aae2890"
   },
   "outputs": [
    {
     "name": "stdout",
     "output_type": "stream",
     "text": [
      "0.9456218627997769\n"
     ]
    }
   ],
   "source": [
    "print(evaluate_model(interpreter))"
   ]
  },
  {
   "cell_type": "code",
   "execution_count": null,
   "metadata": {
    "colab": {
     "base_uri": "https://localhost:8080/"
    },
    "id": "g6_lYrq-PJR4",
    "outputId": "7d47ebfd-2745-43b7-b907-229ad38bac62"
   },
   "outputs": [
    {
     "name": "stdout",
     "output_type": "stream",
     "text": [
      "0.9456218627997769\n"
     ]
    }
   ],
   "source": [
    "print(evaluate_model(interpreter_quant))"
   ]
  },
  {
   "cell_type": "code",
   "execution_count": null,
   "metadata": {
    "id": "1tlVALqddDkt"
   },
   "outputs": [],
   "source": [
    "def get_gzipped_model_size(file):\n",
    "  # It returns the size of the gzipped model in bytes.\n",
    "  import os\n",
    "  import zipfile\n",
    "\n",
    "  _, zipped_file = tempfile.mkstemp('.zip')\n",
    "  with zipfile.ZipFile(zipped_file, 'w', compression=zipfile.ZIP_DEFLATED) as f:\n",
    "    f.write(file)\n",
    "\n",
    "  return os.path.getsize(zipped_file)"
   ]
  },
  {
   "cell_type": "code",
   "execution_count": null,
   "metadata": {
    "colab": {
     "base_uri": "https://localhost:8080/"
    },
    "id": "Uf-jMnBaRn8V",
    "outputId": "68919722-e4e9-42b7-c026-2cc5afca2e57"
   },
   "outputs": [
    {
     "name": "stdout",
     "output_type": "stream",
     "text": [
      "Size of gzipped baseline Keras model: 48938774.00 bytes\n",
      "Size of gzipped dynamically quantized Keras model: 9197623.00 bytes\n"
     ]
    }
   ],
   "source": [
    "print(\"Size of gzipped baseline Keras model: %.2f bytes\" % (get_gzipped_model_size(tflite_model_file)))\n",
    "print(\"Size of gzipped dynamically quantized Keras model: %.2f bytes\" % (get_gzipped_model_size(tflite_model_quant_file)))"
   ]
  }
 ],
 "metadata": {
  "accelerator": "GPU",
  "colab": {
   "collapsed_sections": [],
   "machine_shape": "hm",
   "name": "3_Q1_B.ipynb",
   "provenance": []
  },
  "kernelspec": {
   "display_name": "Python 3",
   "language": "python",
   "name": "python3"
  },
  "language_info": {
   "codemirror_mode": {
    "name": "ipython",
    "version": 3
   },
   "file_extension": ".py",
   "mimetype": "text/x-python",
   "name": "python",
   "nbconvert_exporter": "python",
   "pygments_lexer": "ipython3",
   "version": "3.8.5"
  }
 },
 "nbformat": 4,
 "nbformat_minor": 1
}
