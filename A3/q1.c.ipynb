{
 "cells": [
  {
   "cell_type": "code",
   "execution_count": 1,
   "metadata": {
    "id": "PSc86ypkVsVn"
   },
   "outputs": [],
   "source": [
    "import sys\n",
    "import sklearn\n",
    "import tensorflow as tf\n",
    "from tensorflow import keras\n",
    "\n",
    "import numpy as np\n",
    "from numpy import load\n",
    "import os\n",
    "\n",
    "# to make this notebook's output stable across runs\n",
    "np.random.seed(42)\n",
    "tf.random.set_seed(42)\n",
    "\n",
    "# To plot pretty figures\n",
    "%matplotlib inline\n",
    "import matplotlib as mpl\n",
    "import matplotlib.pyplot as plt\n",
    "mpl.rc('axes', labelsize=14)\n",
    "mpl.rc('xtick', labelsize=12)\n",
    "mpl.rc('ytick', labelsize=12)\n",
    "\n",
    "# Where to save the figures\n",
    "PROJECT_ROOT_DIR = \".\"\n",
    "IMAGES_PATH = os.path.join(PROJECT_ROOT_DIR, \"images\")\n",
    "os.makedirs(IMAGES_PATH, exist_ok=True)\n",
    "\n",
    "def save_fig(fig_id, tight_layout=True, fig_extension=\"png\", resolution=300):\n",
    "    path = os.path.join(IMAGES_PATH, fig_id + \".\" + fig_extension)\n",
    "    print(\"Saving figure\", fig_id)\n",
    "    if tight_layout:\n",
    "        plt.tight_layout()\n",
    "    plt.savefig(path, format=fig_extension, dpi=resolution)"
   ]
  },
  {
   "cell_type": "markdown",
   "metadata": {
    "id": "Q7FEY4IbVsVr"
   },
   "source": [
    "### Load Dataset"
   ]
  },
  {
   "cell_type": "code",
   "execution_count": 2,
   "metadata": {
    "id": "Jt3CskDOVsVs"
   },
   "outputs": [],
   "source": [
    "def plot_learning_curves(loss, val_loss):\n",
    "    plt.plot(np.arange(len(loss)) + 0.5, loss, \"b.-\", label=\"Training loss\")\n",
    "    plt.plot(np.arange(len(val_loss)) + 1, val_loss, \"r.-\", label=\"Validation loss\")\n",
    "    plt.gca().xaxis.set_major_locator(mpl.ticker.MaxNLocator(integer=True))\n",
    "    plt.axis([1, 20, 0, 0.2])\n",
    "    plt.legend(fontsize=14)\n",
    "    plt.xlabel(\"Epochs\")\n",
    "    plt.ylabel(\"Loss\")\n",
    "    plt.grid(True)"
   ]
  },
  {
   "cell_type": "code",
   "execution_count": 3,
   "metadata": {
    "id": "B3FXJEG8VsVt"
   },
   "outputs": [],
   "source": [
    "def plot_series(series, y=None, y_pred=None, x_label=\"$t$\", y_label=\"$x(t)$\"):\n",
    "    plt.plot(series, \".-\")\n",
    "    if y is not None:\n",
    "        plt.plot(n_steps, y, \"bx\", markersize=10)\n",
    "    if y_pred is not None:\n",
    "        plt.plot(n_steps, y_pred, \"ro\")\n",
    "    plt.grid(True)\n",
    "    if x_label:\n",
    "        plt.xlabel(x_label, fontsize=16)\n",
    "    if y_label:\n",
    "        plt.ylabel(y_label, fontsize=16, rotation=0)\n",
    "    plt.hlines(0, 0, 100, linewidth=1)\n",
    "    plt.axis([0, n_steps + 1, -1, 1])"
   ]
  },
  {
   "cell_type": "code",
   "execution_count": 4,
   "metadata": {
    "id": "nH-zyfu5VsVt"
   },
   "outputs": [],
   "source": [
    "def plot_multiple_forecasts(X, Y, Y_pred):\n",
    "    n_steps = X.shape[1]\n",
    "    ahead = Y.shape[1]\n",
    "    plot_series(X[0, :, 0])\n",
    "    plt.plot(np.arange(n_steps, n_steps + ahead), Y[0, :, 0], \"ro-\", label=\"Actual\")\n",
    "    plt.plot(np.arange(n_steps, n_steps + ahead), Y_pred[0, :, 0], \"bx-\", label=\"Forecast\", markersize=10)\n",
    "    plt.axis([0, n_steps + ahead, -1, 1])\n",
    "    plt.legend(fontsize=14)"
   ]
  },
  {
   "cell_type": "code",
   "execution_count": 6,
   "metadata": {
    "id": "Vxi1oFgqVsVu"
   },
   "outputs": [],
   "source": [
    "n_steps = 60\n",
    "series = load('univariate-time-series-multi-step.npy')\n",
    "\n",
    "X_train, y_train = series[:9000, :n_steps], series[:9000, -1] # -1 references the last column\n",
    "X_valid, y_valid = series[9000:11000, :n_steps], series[9000:11000, -1]\n",
    "X_test, y_test = series[11000:, :n_steps], series[11000:, -1]"
   ]
  },
  {
   "cell_type": "markdown",
   "metadata": {
    "id": "dAjZs1rIVsVv"
   },
   "source": [
    "## Improving multi-step prediction model\n",
    "\n",
    "Instead of training the model to forecast the next 10 values only at the very last time step, we can train it to forecast the next 10 values at each and every time step. In other words, we can turn this sequence-to-vector RNN into a sequence-to-sequence RNN. The advantage of this technique is that the loss will contain a term for the output of the RNN at each and every time step, not just the output at the last time step. This means there will be many more error gradients flowing through the model, and they will also flow from the output of each time step. This will both stabilize and speed up training. To be clear, at time step 0 the model will output a vector containing the forecasts for time steps 1 to 10, then at time step 1 the model will forecast time steps 2 to 11, and so on. So each target must be a sequence of the same length as the input sequence, containing a 10-dimensional vector at each step. Let’s prepare these target sequences."
   ]
  },
  {
   "cell_type": "code",
   "execution_count": 7,
   "metadata": {
    "id": "OTlCwf6hVsVv"
   },
   "outputs": [],
   "source": [
    "Y = np.empty((12000, n_steps, 10)) "
   ]
  },
  {
   "cell_type": "code",
   "execution_count": 8,
   "metadata": {
    "id": "5pubZO3AVsVw"
   },
   "outputs": [],
   "source": [
    "# each target is a sequence of 10D vectors, because in each of the 60 time steps the model will predict 10 time steps\n",
    "for step_ahead in range(1, 10 + 1):\n",
    "    Y[..., step_ahead - 1] = series[..., step_ahead:step_ahead + n_steps, 0]\n",
    "    # same as     Y[:, :, step_ahead - 1] = series[:, step_ahead:step_ahead + n_steps, 0]\n",
    "    # broadcasting 1-61 to 0th element of z axis of each of the 10k rows\n",
    "    # then 2-62 to 1st element of z-axis ... all the way till 10-70 to 9th element of z axis of the 10k rows \n",
    "Y_train = Y[:9000]\n",
    "Y_valid = Y[9000:11000]\n",
    "Y_test = Y[11000:]"
   ]
  },
  {
   "cell_type": "code",
   "execution_count": 9,
   "metadata": {
    "colab": {
     "base_uri": "https://localhost:8080/"
    },
    "id": "8E5GmfrxVsVx",
    "outputId": "8d75b6c4-e4a5-4e2e-9941-266242f5d068"
   },
   "outputs": [
    {
     "data": {
      "text/plain": [
       "((9000, 60, 1), (9000, 60, 10))"
      ]
     },
     "execution_count": 9,
     "metadata": {},
     "output_type": "execute_result"
    }
   ],
   "source": [
    "X_train.shape, Y_train.shape"
   ]
  },
  {
   "cell_type": "code",
   "execution_count": 10,
   "metadata": {
    "colab": {
     "base_uri": "https://localhost:8080/"
    },
    "id": "U35UCeZpVsVy",
    "outputId": "a4ad6482-4c0f-4441-fb55-a2b3a1a5855a"
   },
   "outputs": [
    {
     "name": "stderr",
     "output_type": "stream",
     "text": [
      "/usr/local/lib/python3.7/dist-packages/keras/optimizer_v2/adam.py:105: UserWarning: The `lr` argument is deprecated, use `learning_rate` instead.\n",
      "  super(Adam, self).__init__(name, **kwargs)\n"
     ]
    },
    {
     "name": "stdout",
     "output_type": "stream",
     "text": [
      "Epoch 1/20\n",
      "282/282 [==============================] - 3s 3ms/step - loss: 0.1038 - last_time_step_mse: 0.1050 - val_loss: 0.0952 - val_last_time_step_mse: 0.0995\n",
      "Epoch 2/20\n",
      "282/282 [==============================] - 1s 2ms/step - loss: 0.0952 - last_time_step_mse: 0.0964 - val_loss: 0.0952 - val_last_time_step_mse: 0.0994\n",
      "Epoch 3/20\n",
      "282/282 [==============================] - 1s 2ms/step - loss: 0.0952 - last_time_step_mse: 0.0964 - val_loss: 0.0952 - val_last_time_step_mse: 0.0993\n",
      "Epoch 4/20\n",
      "282/282 [==============================] - 1s 2ms/step - loss: 0.0952 - last_time_step_mse: 0.0964 - val_loss: 0.0953 - val_last_time_step_mse: 0.1005\n",
      "Epoch 5/20\n",
      "282/282 [==============================] - 1s 2ms/step - loss: 0.0952 - last_time_step_mse: 0.0965 - val_loss: 0.0954 - val_last_time_step_mse: 0.1013\n",
      "Epoch 6/20\n",
      "282/282 [==============================] - 1s 2ms/step - loss: 0.0952 - last_time_step_mse: 0.0965 - val_loss: 0.0953 - val_last_time_step_mse: 0.1005\n",
      "Epoch 7/20\n",
      "282/282 [==============================] - 1s 2ms/step - loss: 0.0952 - last_time_step_mse: 0.0965 - val_loss: 0.0952 - val_last_time_step_mse: 0.1002\n",
      "Epoch 8/20\n",
      "282/282 [==============================] - 1s 2ms/step - loss: 0.0952 - last_time_step_mse: 0.0964 - val_loss: 0.0954 - val_last_time_step_mse: 0.1017\n",
      "Epoch 9/20\n",
      "282/282 [==============================] - 1s 2ms/step - loss: 0.0952 - last_time_step_mse: 0.0965 - val_loss: 0.0955 - val_last_time_step_mse: 0.1019\n",
      "Epoch 10/20\n",
      "282/282 [==============================] - 1s 2ms/step - loss: 0.0952 - last_time_step_mse: 0.0965 - val_loss: 0.0952 - val_last_time_step_mse: 0.0985\n",
      "Epoch 11/20\n",
      "282/282 [==============================] - 1s 2ms/step - loss: 0.0952 - last_time_step_mse: 0.0964 - val_loss: 0.0952 - val_last_time_step_mse: 0.0993\n",
      "Epoch 12/20\n",
      "282/282 [==============================] - 1s 2ms/step - loss: 0.0952 - last_time_step_mse: 0.0964 - val_loss: 0.0952 - val_last_time_step_mse: 0.0987\n",
      "Epoch 13/20\n",
      "282/282 [==============================] - 1s 2ms/step - loss: 0.0952 - last_time_step_mse: 0.0965 - val_loss: 0.0953 - val_last_time_step_mse: 0.0980\n",
      "Epoch 14/20\n",
      "282/282 [==============================] - 1s 2ms/step - loss: 0.0952 - last_time_step_mse: 0.0965 - val_loss: 0.0952 - val_last_time_step_mse: 0.0997\n",
      "Epoch 15/20\n",
      "282/282 [==============================] - 1s 2ms/step - loss: 0.0952 - last_time_step_mse: 0.0965 - val_loss: 0.0952 - val_last_time_step_mse: 0.0985\n",
      "Epoch 16/20\n",
      "282/282 [==============================] - 1s 2ms/step - loss: 0.0952 - last_time_step_mse: 0.0965 - val_loss: 0.0952 - val_last_time_step_mse: 0.0990\n",
      "Epoch 17/20\n",
      "282/282 [==============================] - 1s 2ms/step - loss: 0.0952 - last_time_step_mse: 0.0965 - val_loss: 0.0952 - val_last_time_step_mse: 0.1000\n",
      "Epoch 18/20\n",
      "282/282 [==============================] - 1s 2ms/step - loss: 0.0952 - last_time_step_mse: 0.0964 - val_loss: 0.0952 - val_last_time_step_mse: 0.0995\n",
      "Epoch 19/20\n",
      "282/282 [==============================] - 1s 2ms/step - loss: 0.0953 - last_time_step_mse: 0.0965 - val_loss: 0.0953 - val_last_time_step_mse: 0.0991\n",
      "Epoch 20/20\n",
      "282/282 [==============================] - 1s 2ms/step - loss: 0.0952 - last_time_step_mse: 0.0964 - val_loss: 0.0952 - val_last_time_step_mse: 0.1000\n"
     ]
    }
   ],
   "source": [
    "model = keras.models.Sequential([\n",
    "    keras.layers.TimeDistributed(keras.layers.Flatten(input_shape=[60, 1])),\n",
    "    keras.layers.TimeDistributed(keras.layers.Dense(10))\n",
    "])\n",
    "\n",
    "def last_time_step_mse(Y_true, Y_pred):\n",
    "    return keras.metrics.mean_squared_error(Y_true[:, -1], Y_pred[:, -1])\n",
    "\n",
    "model.compile(loss=\"mse\", optimizer=keras.optimizers.Adam(lr=0.01), metrics=[last_time_step_mse])\n",
    "history = model.fit(X_train, Y_train, epochs=20,\n",
    "                    validation_data=(X_valid, Y_valid))"
   ]
  },
  {
   "cell_type": "code",
   "execution_count": 11,
   "metadata": {
    "colab": {
     "base_uri": "https://localhost:8080/",
     "height": 291
    },
    "id": "bkmqNy6bVsVy",
    "outputId": "db83b936-5bb1-40df-f5f5-e7c568bcb3dd"
   },
   "outputs": [
    {
     "data": {
      "image/png": "[encoded data removed]",
      "text/plain": [
       "<Figure size 432x288 with 1 Axes>"
      ]
     },
     "metadata": {
      "needs_background": "light"
     },
     "output_type": "display_data"
    }
   ],
   "source": [
    "plot_learning_curves(history.history[\"loss\"], history.history[\"val_loss\"])\n",
    "plt.show()"
   ]
  },
  {
   "cell_type": "code",
   "execution_count": 12,
   "metadata": {
    "id": "U6FmbD2HVsVz"
   },
   "outputs": [],
   "source": [
    "series = load('univariate-time-series-multi-step-test.npy')\n",
    "X_new, Y_new = series[:, :60, :], series[:, 60:, :]\n",
    "Y_pred = model.predict(X_new)[:, -1][..., np.newaxis]"
   ]
  },
  {
   "cell_type": "code",
   "execution_count": 13,
   "metadata": {
    "colab": {
     "base_uri": "https://localhost:8080/",
     "height": 293
    },
    "id": "JBzQPdFoVsVz",
    "outputId": "2f2b6cea-6cb2-4e73-b49e-7fbad6fdaf63"
   },
   "outputs": [
    {
     "data": {
      "image/png": "[encoded data removed]",
      "text/plain": [
       "<Figure size 432x288 with 1 Axes>"
      ]
     },
     "metadata": {
      "needs_background": "light"
     },
     "output_type": "display_data"
    }
   ],
   "source": [
    "plot_multiple_forecasts(X_new, Y_new, Y_pred)\n",
    "plt.show()"
   ]
  },
  {
   "cell_type": "code",
   "execution_count": 14,
   "metadata": {
    "colab": {
     "base_uri": "https://localhost:8080/"
    },
    "id": "gvnu8_J5VsVz",
    "outputId": "ac58db8f-5166-4d2a-abeb-a8dd47ed8d61"
   },
   "outputs": [
    {
     "name": "stdout",
     "output_type": "stream",
     "text": [
      "32/32 [==============================] - 0s 2ms/step - loss: 0.0960 - last_time_step_mse: 0.0996\n"
     ]
    },
    {
     "data": {
      "text/plain": [
       "[0.09603306651115417, 0.09957661479711533]"
      ]
     },
     "execution_count": 14,
     "metadata": {},
     "output_type": "execute_result"
    }
   ],
   "source": [
    "model.evaluate(X_test, Y_test)\n",
    "#outputs [loss (mse), last_time_step_mse]"
   ]
  },
  {
   "cell_type": "code",
   "execution_count": 15,
   "metadata": {
    "colab": {
     "base_uri": "https://localhost:8080/"
    },
    "id": "NgbBFJp6XhSU",
    "outputId": "af22e0b8-a11a-43b0-bd4c-0e0fff3671b5"
   },
   "outputs": [
    {
     "name": "stdout",
     "output_type": "stream",
     "text": [
      "WARNING:tensorflow:Layer lstm will not use cuDNN kernels since it doesn't meet the criteria. It will use a generic GPU kernel as fallback when running on GPU.\n"
     ]
    }
   ],
   "source": [
    "model_RNN = keras.models.Sequential([\n",
    "    tf.keras.layers.TimeDistributed(keras.layers.Flatten(input_shape=[60, 1])),\n",
    "    tf.keras.layers.LSTM(100, return_sequences=True, activation='relu'),\n",
    "    tf.keras.layers.Dropout(0.4),\n",
    "    tf.keras.layers.TimeDistributed(keras.layers.Dense(10))\n",
    "])"
   ]
  },
  {
   "cell_type": "code",
   "execution_count": 16,
   "metadata": {
    "colab": {
     "base_uri": "https://localhost:8080/"
    },
    "id": "DY7AX4OYYhxO",
    "outputId": "99aed9ec-43ba-4b86-e429-68ed27ff29f8"
   },
   "outputs": [
    {
     "name": "stderr",
     "output_type": "stream",
     "text": [
      "/usr/local/lib/python3.7/dist-packages/keras/optimizer_v2/adam.py:105: UserWarning: The `lr` argument is deprecated, use `learning_rate` instead.\n",
      "  super(Adam, self).__init__(name, **kwargs)\n"
     ]
    },
    {
     "name": "stdout",
     "output_type": "stream",
     "text": [
      "Epoch 1/20\n",
      "282/282 [==============================] - 24s 81ms/step - loss: 0.0546 - last_time_step_mse: 0.0519 - val_loss: 0.0352 - val_last_time_step_mse: 0.0310\n",
      "Epoch 2/20\n",
      "282/282 [==============================] - 23s 80ms/step - loss: 0.0381 - last_time_step_mse: 0.0334 - val_loss: 0.0299 - val_last_time_step_mse: 0.0244\n",
      "Epoch 3/20\n",
      "282/282 [==============================] - 22s 79ms/step - loss: 0.0347 - last_time_step_mse: 0.0283 - val_loss: 0.0275 - val_last_time_step_mse: 0.0198\n",
      "Epoch 4/20\n",
      "282/282 [==============================] - 23s 81ms/step - loss: 0.0330 - last_time_step_mse: 0.0261 - val_loss: 0.0261 - val_last_time_step_mse: 0.0185\n",
      "Epoch 5/20\n",
      "282/282 [==============================] - 22s 78ms/step - loss: 0.0318 - last_time_step_mse: 0.0241 - val_loss: 0.0248 - val_last_time_step_mse: 0.0161\n",
      "Epoch 6/20\n",
      "282/282 [==============================] - 22s 77ms/step - loss: 0.0309 - last_time_step_mse: 0.0228 - val_loss: 0.0241 - val_last_time_step_mse: 0.0183\n",
      "Epoch 7/20\n",
      "282/282 [==============================] - 22s 79ms/step - loss: 0.0299 - last_time_step_mse: 0.0214 - val_loss: 0.0233 - val_last_time_step_mse: 0.0153\n",
      "Epoch 8/20\n",
      "282/282 [==============================] - 22s 76ms/step - loss: 0.0294 - last_time_step_mse: 0.0201 - val_loss: 0.0214 - val_last_time_step_mse: 0.0116\n",
      "Epoch 9/20\n",
      "282/282 [==============================] - 22s 77ms/step - loss: 0.0285 - last_time_step_mse: 0.0192 - val_loss: 0.0224 - val_last_time_step_mse: 0.0135\n",
      "Epoch 10/20\n",
      "282/282 [==============================] - 22s 78ms/step - loss: 0.0281 - last_time_step_mse: 0.0187 - val_loss: 0.0222 - val_last_time_step_mse: 0.0117\n",
      "Epoch 11/20\n",
      "282/282 [==============================] - 22s 78ms/step - loss: 0.0275 - last_time_step_mse: 0.0179 - val_loss: 0.0212 - val_last_time_step_mse: 0.0102\n",
      "Epoch 12/20\n",
      "282/282 [==============================] - 22s 79ms/step - loss: 0.0271 - last_time_step_mse: 0.0175 - val_loss: 0.0217 - val_last_time_step_mse: 0.0123\n",
      "Epoch 13/20\n",
      "282/282 [==============================] - 22s 78ms/step - loss: 0.0266 - last_time_step_mse: 0.0167 - val_loss: 0.0195 - val_last_time_step_mse: 0.0091\n",
      "Epoch 14/20\n",
      "282/282 [==============================] - 22s 77ms/step - loss: 0.0265 - last_time_step_mse: 0.0165 - val_loss: 0.0204 - val_last_time_step_mse: 0.0092\n",
      "Epoch 15/20\n",
      "282/282 [==============================] - 21s 75ms/step - loss: 0.0262 - last_time_step_mse: 0.0164 - val_loss: 0.0190 - val_last_time_step_mse: 0.0083\n",
      "Epoch 16/20\n",
      "282/282 [==============================] - 21s 75ms/step - loss: 0.0260 - last_time_step_mse: 0.0161 - val_loss: 0.0187 - val_last_time_step_mse: 0.0076\n",
      "Epoch 17/20\n",
      "282/282 [==============================] - 21s 75ms/step - loss: 0.0257 - last_time_step_mse: 0.0159 - val_loss: 0.0190 - val_last_time_step_mse: 0.0079\n",
      "Epoch 18/20\n",
      "282/282 [==============================] - 21s 76ms/step - loss: 0.0258 - last_time_step_mse: 0.0160 - val_loss: 0.0195 - val_last_time_step_mse: 0.0103\n",
      "Epoch 19/20\n",
      "282/282 [==============================] - 22s 77ms/step - loss: 0.0254 - last_time_step_mse: 0.0157 - val_loss: 0.0187 - val_last_time_step_mse: 0.0079\n",
      "Epoch 20/20\n",
      "282/282 [==============================] - 22s 77ms/step - loss: 0.0253 - last_time_step_mse: 0.0153 - val_loss: 0.0190 - val_last_time_step_mse: 0.0085\n"
     ]
    }
   ],
   "source": [
    "def last_time_step_mse(Y_true, Y_pred):\n",
    "    return keras.metrics.mean_squared_error(Y_true[:, -1], Y_pred[:, -1])\n",
    "\n",
    "model_RNN.compile(loss=\"mse\", optimizer=keras.optimizers.Adam(lr=0.01), metrics=[last_time_step_mse])\n",
    "history = model_RNN.fit(X_train, Y_train, epochs=20,\n",
    "                    validation_data=(X_valid, Y_valid))"
   ]
  },
  {
   "cell_type": "code",
   "execution_count": 17,
   "metadata": {
    "colab": {
     "base_uri": "https://localhost:8080/",
     "height": 291
    },
    "id": "zw5qruMxcZj6",
    "outputId": "3b308d81-fc76-4ac6-97c1-6521732b2be8"
   },
   "outputs": [
    {
     "data": {
      "image/png": "[encoded data removed]",
      "text/plain": [
       "<Figure size 432x288 with 1 Axes>"
      ]
     },
     "metadata": {
      "needs_background": "light"
     },
     "output_type": "display_data"
    }
   ],
   "source": [
    "plot_learning_curves(history.history[\"loss\"], history.history[\"val_loss\"])\n",
    "plt.show()"
   ]
  },
  {
   "cell_type": "code",
   "execution_count": 19,
   "metadata": {
    "id": "E-9u--njeTrQ"
   },
   "outputs": [],
   "source": [
    "series = load('univariate-time-series-multi-step-test.npy')\n",
    "X_new, Y_new = series[:, :60, :], series[:, 60:, :]\n",
    "Y_pred = model_RNN.predict(X_new)[:, -1][..., np.newaxis]"
   ]
  },
  {
   "cell_type": "code",
   "execution_count": 20,
   "metadata": {
    "colab": {
     "base_uri": "https://localhost:8080/",
     "height": 293
    },
    "id": "6vn8foideXEP",
    "outputId": "9aa6cea9-7ab1-4449-d49e-2da2b06d9a20"
   },
   "outputs": [
    {
     "data": {
      "image/png": "[encoded data removed]",
      "text/plain": [
       "<Figure size 432x288 with 1 Axes>"
      ]
     },
     "metadata": {
      "needs_background": "light"
     },
     "output_type": "display_data"
    }
   ],
   "source": [
    "plot_multiple_forecasts(X_new, Y_new, Y_pred)\n",
    "plt.show()"
   ]
  },
  {
   "cell_type": "code",
   "execution_count": 21,
   "metadata": {
    "colab": {
     "base_uri": "https://localhost:8080/"
    },
    "id": "p1tEvjBEeenQ",
    "outputId": "d623abad-53d5-4610-d7e9-1146f43bf04b"
   },
   "outputs": [
    {
     "name": "stdout",
     "output_type": "stream",
     "text": [
      "32/32 [==============================] - 0s 9ms/step - loss: 0.0192 - last_time_step_mse: 0.0087\n"
     ]
    },
    {
     "data": {
      "text/plain": [
       "[0.01915060728788376, 0.008739501237869263]"
      ]
     },
     "execution_count": 21,
     "metadata": {},
     "output_type": "execute_result"
    }
   ],
   "source": [
    "model_RNN.evaluate(X_test, Y_test)\n",
    "#outputs [loss (mse), last_time_step_mse]"
   ]
  }
 ],
 "metadata": {
  "accelerator": "GPU",
  "colab": {
   "collapsed_sections": [],
   "machine_shape": "hm",
   "name": "univariate-time-series-multi-step-enhanced.ipynb",
   "provenance": []
  },
  "kernelspec": {
   "display_name": "Python 3",
   "language": "python",
   "name": "python3"
  },
  "language_info": {
   "codemirror_mode": {
    "name": "ipython",
    "version": 3
   },
   "file_extension": ".py",
   "mimetype": "text/x-python",
   "name": "python",
   "nbconvert_exporter": "python",
   "pygments_lexer": "ipython3",
   "version": "3.8.5"
  },
  "nav_menu": {},
  "toc": {
   "navigate_menu": true,
   "number_sections": true,
   "sideBar": true,
   "threshold": 6,
   "toc_cell": false,
   "toc_section_display": "block",
   "toc_window_display": false
  }
 },
 "nbformat": 4,
 "nbformat_minor": 1
}
