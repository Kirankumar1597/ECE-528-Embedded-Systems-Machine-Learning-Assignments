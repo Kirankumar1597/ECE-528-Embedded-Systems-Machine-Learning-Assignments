{
 "cells": [
  {
   "cell_type": "code",
   "execution_count": null,
   "metadata": {
    "id": "n1hcKOUW28HR"
   },
   "outputs": [],
   "source": [
    "import tensorflow as tf\n",
    "import numpy as np\n",
    "import pandas as pd\n",
    "import matplotlib.pyplot as plt\n",
    "from tensorflow import keras"
   ]
  },
  {
   "cell_type": "code",
   "execution_count": null,
   "metadata": {
    "colab": {
     "base_uri": "https://localhost:8080/"
    },
    "id": "-IaTU7hG2_E8",
    "outputId": "b7d743c5-7781-4ea1-8c79-28ae1be2c8e2"
   },
   "outputs": [
    {
     "name": "stdout",
     "output_type": "stream",
     "text": [
      "Mounted at /drive\n"
     ]
    }
   ],
   "source": [
    "from google.colab import drive\n",
    "drive.mount ('/drive')"
   ]
  },
  {
   "cell_type": "code",
   "execution_count": null,
   "metadata": {
    "id": "kAyLOZ0L3wqO"
   },
   "outputs": [],
   "source": [
    "train = pd.read_csv('/drive/My Drive/sign_mnist_train.csv')\n",
    "test = pd.read_csv('/drive/My Drive/sign_mnist_test.csv')"
   ]
  },
  {
   "cell_type": "code",
   "execution_count": null,
   "metadata": {
    "id": "S-UYZpNZ7PQs"
   },
   "outputs": [],
   "source": [
    "x_train = train.drop(['pixel1'], axis=1).values\n",
    "y_train = train['label'].values\n",
    "x_test = test.drop(['pixel1'], axis=1).values\n",
    "y_test = test['label'].values\n",
    "x_train = x_train / 255\n",
    "x_test = x_test / 255"
   ]
  },
  {
   "cell_type": "code",
   "execution_count": null,
   "metadata": {
    "id": "9YfRy3Vjm_Kh"
   },
   "outputs": [],
   "source": [
    "x_train = np.array(x_train)\n",
    "x_test = np.array(x_test)\n",
    "x_train = x_train.reshape(x_train.shape[0],28,28,1)\n",
    "x_test = x_test.reshape(x_test.shape[0],28,28,1)"
   ]
  },
  {
   "cell_type": "code",
   "execution_count": null,
   "metadata": {
    "id": "FQLihmgn_ibv"
   },
   "outputs": [],
   "source": [
    "model = keras.Sequential([\n",
    "        keras.layers.InputLayer(input_shape=(28, 28, 1)),\n",
    "        keras.layers.Reshape(target_shape=(28, 28, 1)),\n",
    "        keras.layers.Conv2D(filters=16, kernel_size=(3,3), activation=tf.nn.relu, padding='same'),\n",
    "        \n",
    "        keras.layers.Conv2D(filters=32, kernel_size=(6,6), activation=tf.nn.relu, padding='same'),\n",
    "        \n",
    "        keras.layers.Conv2D(filters=64, kernel_size=(12,12), activation=tf.nn.relu, padding='same'),\n",
    "\n",
    "        keras.layers.MaxPooling2D(pool_size=(2,2)),\n",
    "        keras.layers.Flatten(),\n",
    "        keras.layers.Dense(1024, activation='relu'),\n",
    "        keras.layers.Dropout(0.20),\n",
    "        keras.layers.Dense(25, activation='softmax')                  \n",
    "])"
   ]
  },
  {
   "cell_type": "code",
   "execution_count": null,
   "metadata": {
    "id": "XMcbWXpw_m0Q"
   },
   "outputs": [],
   "source": [
    "model.compile(optimizer=tf.keras.optimizers.Adam(learning_rate=0.001),\n",
    "          loss='sparse_categorical_crossentropy',\n",
    "          metrics=['accuracy'])"
   ]
  },
  {
   "cell_type": "code",
   "execution_count": null,
   "metadata": {
    "colab": {
     "base_uri": "https://localhost:8080/"
    },
    "id": "wpN5PF8OGqgF",
    "outputId": "3f64520e-a118-43af-c57c-e7906fa8f744"
   },
   "outputs": [
    {
     "name": "stdout",
     "output_type": "stream",
     "text": [
      "Epoch 1/10\n",
      "858/858 [==============================] - 23s 8ms/step - loss: 0.5570 - accuracy: 0.8284 - val_loss: 0.3950 - val_accuracy: 0.9037\n",
      "Epoch 2/10\n",
      "858/858 [==============================] - 7s 8ms/step - loss: 0.0128 - accuracy: 0.9963 - val_loss: 0.5169 - val_accuracy: 0.8929\n",
      "Epoch 3/10\n",
      "858/858 [==============================] - 7s 8ms/step - loss: 0.0103 - accuracy: 0.9970 - val_loss: 0.5291 - val_accuracy: 0.8970\n",
      "Epoch 4/10\n",
      "858/858 [==============================] - 7s 8ms/step - loss: 0.0151 - accuracy: 0.9958 - val_loss: 0.4489 - val_accuracy: 0.9297\n",
      "Epoch 5/10\n",
      "858/858 [==============================] - 7s 8ms/step - loss: 5.5980e-05 - accuracy: 1.0000 - val_loss: 0.4559 - val_accuracy: 0.9313\n",
      "Epoch 6/10\n",
      "858/858 [==============================] - 7s 8ms/step - loss: 7.3186e-05 - accuracy: 1.0000 - val_loss: 0.5223 - val_accuracy: 0.9275\n",
      "Epoch 7/10\n",
      "858/858 [==============================] - 7s 8ms/step - loss: 7.0995e-06 - accuracy: 1.0000 - val_loss: 0.5453 - val_accuracy: 0.9267\n",
      "Epoch 8/10\n",
      "858/858 [==============================] - 7s 8ms/step - loss: 1.0967e-05 - accuracy: 1.0000 - val_loss: 0.5326 - val_accuracy: 0.9235\n",
      "Epoch 9/10\n",
      "858/858 [==============================] - 7s 8ms/step - loss: 1.9222e-06 - accuracy: 1.0000 - val_loss: 0.5413 - val_accuracy: 0.9278\n",
      "Epoch 10/10\n",
      "858/858 [==============================] - 7s 8ms/step - loss: 8.9929e-07 - accuracy: 1.0000 - val_loss: 0.5518 - val_accuracy: 0.9251\n"
     ]
    },
    {
     "data": {
      "text/plain": [
       "<keras.callbacks.History at 0x7fdc4006ffd0>"
      ]
     },
     "execution_count": 9,
     "metadata": {},
     "output_type": "execute_result"
    }
   ],
   "source": [
    "model.fit(x_train, y_train, epochs=10,validation_data=(x_test, y_test))"
   ]
  },
  {
   "cell_type": "code",
   "execution_count": null,
   "metadata": {
    "colab": {
     "base_uri": "https://localhost:8080/"
    },
    "id": "QxhxSO_TG3JR",
    "outputId": "9c705800-c3b0-42eb-f4fc-9db482cb4570"
   },
   "outputs": [
    {
     "name": "stdout",
     "output_type": "stream",
     "text": [
      "225/225 - 1s - loss: 0.5518 - accuracy: 0.9251\n",
      "\n",
      "Test accuracy: 0.9251254796981812\n"
     ]
    }
   ],
   "source": [
    "test_loss, test_acc = model.evaluate(x_test,  y_test, verbose=2)\n",
    "print('\\nTest accuracy:', test_acc)"
   ]
  },
  {
   "cell_type": "code",
   "execution_count": null,
   "metadata": {
    "id": "fL1M38vN6jBU"
   },
   "outputs": [],
   "source": []
  }
 ],
 "metadata": {
  "accelerator": "GPU",
  "colab": {
   "collapsed_sections": [],
   "name": "3_Q1_A.ipynb",
   "provenance": []
  },
  "kernelspec": {
   "display_name": "Python 3",
   "language": "python",
   "name": "python3"
  },
  "language_info": {
   "codemirror_mode": {
    "name": "ipython",
    "version": 3
   },
   "file_extension": ".py",
   "mimetype": "text/x-python",
   "name": "python",
   "nbconvert_exporter": "python",
   "pygments_lexer": "ipython3",
   "version": "3.8.5"
  }
 },
 "nbformat": 4,
 "nbformat_minor": 1
}
