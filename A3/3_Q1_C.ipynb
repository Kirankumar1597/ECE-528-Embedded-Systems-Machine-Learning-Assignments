{
 "cells": [
  {
   "cell_type": "code",
   "execution_count": null,
   "metadata": {
    "id": "uLXiSrh7nEYy"
   },
   "outputs": [],
   "source": [
    "import tensorflow as tf\n",
    "import numpy as np\n",
    "import pandas as pd\n",
    "import matplotlib.pyplot as plt\n",
    "from tensorflow import keras\n",
    "import os\n",
    "import zipfile\n",
    "import tempfile\n",
    "import math\n",
    "import pathlib"
   ]
  },
  {
   "cell_type": "code",
   "execution_count": null,
   "metadata": {
    "colab": {
     "base_uri": "https://localhost:8080/"
    },
    "id": "WxOR8lnMnTyO",
    "outputId": "13c860c1-da57-4450-f1b0-0618f8306bbe"
   },
   "outputs": [
    {
     "name": "stdout",
     "output_type": "stream",
     "text": [
      "Mounted at /drive\n"
     ]
    }
   ],
   "source": [
    "from google.colab import drive\n",
    "drive.mount ('/drive')"
   ]
  },
  {
   "cell_type": "code",
   "execution_count": null,
   "metadata": {
    "id": "NilR7H7xnd-U"
   },
   "outputs": [],
   "source": [
    "train = pd.read_csv('/drive/My Drive/sign_mnist_train.csv')\n",
    "test = pd.read_csv('/drive/My Drive/sign_mnist_test.csv')"
   ]
  },
  {
   "cell_type": "code",
   "execution_count": null,
   "metadata": {
    "id": "g_xBmCV2nhln"
   },
   "outputs": [],
   "source": [
    "x_train = train.drop(['pixel1'], axis=1).values\n",
    "y_train = train['label'].values\n",
    "x_test = test.drop(['pixel1'], axis=1).values\n",
    "y_test = test['label'].values\n",
    "x_train = x_train / 255\n",
    "x_test = x_test / 255"
   ]
  },
  {
   "cell_type": "code",
   "execution_count": null,
   "metadata": {
    "id": "NKovHIujnkCS"
   },
   "outputs": [],
   "source": [
    "x_train = np.array(x_train)\n",
    "x_test = np.array(x_test)\n",
    "x_train = x_train.reshape(x_train.shape[0],28,28,1)\n",
    "x_test = x_test.reshape(x_test.shape[0],28,28,1)"
   ]
  },
  {
   "cell_type": "code",
   "execution_count": null,
   "metadata": {
    "id": "6zGRQF62nvg0"
   },
   "outputs": [],
   "source": [
    "model = keras.Sequential([\n",
    "        keras.layers.InputLayer(input_shape=(28, 28, 1)),\n",
    "        keras.layers.Reshape(target_shape=(28, 28, 1)),\n",
    "        keras.layers.Conv2D(filters=16, kernel_size=(3,3), activation=tf.nn.relu, padding='same'),\n",
    "        \n",
    "        keras.layers.Conv2D(filters=32, kernel_size=(6,6), activation=tf.nn.relu, padding='same'),\n",
    "        \n",
    "        keras.layers.Conv2D(filters=64, kernel_size=(12,12), activation=tf.nn.relu, padding='same'),\n",
    "\n",
    "        keras.layers.MaxPooling2D(pool_size=(2,2)),\n",
    "        keras.layers.Flatten(),\n",
    "        keras.layers.Dense(1024, activation='relu'),\n",
    "        keras.layers.Dropout(0.20),\n",
    "        keras.layers.Dense(25, activation='softmax')                  \n",
    "])"
   ]
  },
  {
   "cell_type": "code",
   "execution_count": null,
   "metadata": {
    "id": "CeM_7Mr-nzQ2"
   },
   "outputs": [],
   "source": [
    "model.compile(optimizer='adam',\n",
    "          loss='sparse_categorical_crossentropy',\n",
    "          metrics=['accuracy'])"
   ]
  },
  {
   "cell_type": "code",
   "execution_count": null,
   "metadata": {
    "colab": {
     "base_uri": "https://localhost:8080/"
    },
    "id": "77up_1YCn20C",
    "outputId": "c84a014a-6451-400b-8169-b3af30cb9414"
   },
   "outputs": [
    {
     "name": "stdout",
     "output_type": "stream",
     "text": [
      "Epoch 1/10\n",
      "138/138 [==============================] - 21s 28ms/step - loss: 1.1190 - accuracy: 0.6613 - val_loss: 0.4317 - val_accuracy: 0.8641\n",
      "Epoch 2/10\n",
      "138/138 [==============================] - 3s 23ms/step - loss: 0.0263 - accuracy: 0.9936 - val_loss: 0.2537 - val_accuracy: 0.9346\n",
      "Epoch 3/10\n",
      "138/138 [==============================] - 3s 23ms/step - loss: 0.0059 - accuracy: 0.9983 - val_loss: 0.2437 - val_accuracy: 0.9279\n",
      "Epoch 4/10\n",
      "138/138 [==============================] - 3s 23ms/step - loss: 0.0054 - accuracy: 0.9990 - val_loss: 0.2786 - val_accuracy: 0.9363\n",
      "Epoch 5/10\n",
      "138/138 [==============================] - 3s 23ms/step - loss: 0.0135 - accuracy: 0.9962 - val_loss: 0.3222 - val_accuracy: 0.9276\n",
      "Epoch 6/10\n",
      "138/138 [==============================] - 3s 23ms/step - loss: 0.0027 - accuracy: 0.9993 - val_loss: 0.2886 - val_accuracy: 0.9364\n",
      "Epoch 7/10\n",
      "138/138 [==============================] - 3s 24ms/step - loss: 2.2033e-04 - accuracy: 1.0000 - val_loss: 0.2980 - val_accuracy: 0.9384\n",
      "Epoch 8/10\n",
      "138/138 [==============================] - 3s 23ms/step - loss: 1.2222e-04 - accuracy: 1.0000 - val_loss: 0.2999 - val_accuracy: 0.9392\n",
      "Epoch 9/10\n",
      "138/138 [==============================] - 3s 23ms/step - loss: 0.0065 - accuracy: 0.9980 - val_loss: 0.3526 - val_accuracy: 0.9193\n",
      "Epoch 10/10\n",
      "138/138 [==============================] - 3s 23ms/step - loss: 0.0035 - accuracy: 0.9991 - val_loss: 0.4053 - val_accuracy: 0.9336\n"
     ]
    },
    {
     "data": {
      "text/plain": [
       "<keras.callbacks.History at 0x7f0f422d6190>"
      ]
     },
     "execution_count": 8,
     "metadata": {},
     "output_type": "execute_result"
    }
   ],
   "source": [
    "model.fit(x_train, y_train, validation_data=(x_test, y_test), epochs=10, batch_size=200)"
   ]
  },
  {
   "cell_type": "code",
   "execution_count": null,
   "metadata": {
    "colab": {
     "base_uri": "https://localhost:8080/"
    },
    "id": "A1c2o1Fcn6Bx",
    "outputId": "049e1eb8-093c-46d5-b010-671d86c040f7"
   },
   "outputs": [
    {
     "name": "stdout",
     "output_type": "stream",
     "text": [
      "Model: \"sequential\"\n",
      "_________________________________________________________________\n",
      "Layer (type)                 Output Shape              Param #   \n",
      "=================================================================\n",
      "reshape (Reshape)            (None, 28, 28, 1)         0         \n",
      "_________________________________________________________________\n",
      "conv2d (Conv2D)              (None, 28, 28, 16)        160       \n",
      "_________________________________________________________________\n",
      "conv2d_1 (Conv2D)            (None, 28, 28, 32)        18464     \n",
      "_________________________________________________________________\n",
      "conv2d_2 (Conv2D)            (None, 28, 28, 64)        294976    \n",
      "_________________________________________________________________\n",
      "max_pooling2d (MaxPooling2D) (None, 14, 14, 64)        0         \n",
      "_________________________________________________________________\n",
      "flatten (Flatten)            (None, 12544)             0         \n",
      "_________________________________________________________________\n",
      "dense (Dense)                (None, 1024)              12846080  \n",
      "_________________________________________________________________\n",
      "dropout (Dropout)            (None, 1024)              0         \n",
      "_________________________________________________________________\n",
      "dense_1 (Dense)              (None, 25)                25625     \n",
      "=================================================================\n",
      "Total params: 13,185,305\n",
      "Trainable params: 13,185,305\n",
      "Non-trainable params: 0\n",
      "_________________________________________________________________\n"
     ]
    }
   ],
   "source": [
    "model.summary()"
   ]
  },
  {
   "cell_type": "code",
   "execution_count": null,
   "metadata": {
    "colab": {
     "base_uri": "https://localhost:8080/"
    },
    "id": "xcmNk8Rwn8-L",
    "outputId": "46be7eea-3dce-4d87-b25f-399e1e844853"
   },
   "outputs": [
    {
     "name": "stdout",
     "output_type": "stream",
     "text": [
      "225/225 - 1s - loss: 0.4053 - accuracy: 0.9336\n",
      "\n",
      "Test accuracy: 0.9336307644844055\n"
     ]
    }
   ],
   "source": [
    "test_loss, test_acc = model.evaluate(x_test,  y_test, verbose=2)\n",
    "print('\\nTest accuracy:', test_acc)"
   ]
  },
  {
   "cell_type": "code",
   "execution_count": null,
   "metadata": {
    "colab": {
     "base_uri": "https://localhost:8080/"
    },
    "id": "-IM33LgXW8YT",
    "outputId": "cc30c348-7e50-4d10-ed63-b847959fc22d"
   },
   "outputs": [
    {
     "name": "stdout",
     "output_type": "stream",
     "text": [
      "INFO:tensorflow:Assets written to: /tmp/tmpllissnas/assets\n"
     ]
    }
   ],
   "source": [
    "converter = tf.lite.TFLiteConverter.from_keras_model(model)\n",
    "tflite_model = converter.convert()"
   ]
  },
  {
   "cell_type": "code",
   "execution_count": null,
   "metadata": {
    "id": "LbXjegDzXA5r"
   },
   "outputs": [],
   "source": [
    "tflite_models_dir = pathlib.Path(\"/tmp/mnist_tflite_models/\")\n",
    "tflite_models_dir.mkdir(exist_ok=True, parents=True)"
   ]
  },
  {
   "cell_type": "code",
   "execution_count": null,
   "metadata": {
    "id": "QTd-wNXApP3b"
   },
   "outputs": [],
   "source": [
    "def representative_data_gen():\n",
    "  for data in tf.data.Dataset.from_tensor_slices((x_test)).batch(1).take(100):\n",
    "    yield [tf.dtypes.cast(data, tf.float32)]\n",
    "\n",
    "converter.representative_dataset = representative_data_gen\n",
    "converter.optimizations = [tf.lite.Optimize.DEFAULT]\n",
    "converter.target_spec.supported_ops = [tf.lite.OpsSet.EXPERIMENTAL_TFLITE_BUILTINS_ACTIVATIONS_INT16_WEIGHTS_INT8]"
   ]
  },
  {
   "cell_type": "code",
   "execution_count": null,
   "metadata": {
    "colab": {
     "base_uri": "https://localhost:8080/"
    },
    "id": "NgqtqfbPpP5p",
    "outputId": "c9588162-d08d-4bc7-e127-43b92448ffdc"
   },
   "outputs": [
    {
     "name": "stdout",
     "output_type": "stream",
     "text": [
      "INFO:tensorflow:Assets written to: /tmp/tmpd4327arp/assets\n"
     ]
    },
    {
     "name": "stderr",
     "output_type": "stream",
     "text": [
      "INFO:tensorflow:Assets written to: /tmp/tmpd4327arp/assets\n"
     ]
    },
    {
     "data": {
      "text/plain": [
       "13201744"
      ]
     },
     "execution_count": 16,
     "metadata": {},
     "output_type": "execute_result"
    }
   ],
   "source": [
    "tflite_16x8_model = converter.convert()\n",
    "tflite_model_16x8_file = tflite_models_dir/\"sign_mnist_quant_int16x8.tflite\"\n",
    "tflite_model_16x8_file.write_bytes(tflite_16x8_model)"
   ]
  },
  {
   "cell_type": "code",
   "execution_count": null,
   "metadata": {
    "id": "kKfnDFigpP8A"
   },
   "outputs": [],
   "source": [
    "interpreter_16x8 = tf.lite.Interpreter(model_path=str(tflite_model_16x8_file))\n",
    "interpreter_16x8.allocate_tensors()"
   ]
  },
  {
   "cell_type": "code",
   "execution_count": null,
   "metadata": {
    "id": "8LoymhC-q2tc"
   },
   "outputs": [],
   "source": [
    "# A helper function to evaluate the TF Lite model using \"test\" dataset.\n",
    "def evaluate_model(interpreter_16x8):\n",
    "  input_index = interpreter_16x8.get_input_details()[0][\"index\"]\n",
    "  output_index = interpreter_16x8.get_output_details()[0][\"index\"]\n",
    "\n",
    "  # Run predictions on every image in the \"test\" dataset.\n",
    "  total_seen=0\n",
    "  total_correct=0\n",
    "  for img, label in zip(x_test,y_test):\n",
    "    inp=img.reshape((1,28,28,1))\n",
    "    total_seen +=1\n",
    "    interpreter_16x8.set_tensor(input_index, np.float32(inp))\n",
    "\n",
    "\n",
    "    # Run inference.\n",
    "    interpreter_16x8.invoke()\n",
    "\n",
    "    predictions= interpreter_16x8.get_tensor(output_index)\n",
    "\n",
    "    if np.argmax(label) == np.argmax(predictions):\n",
    "      total_correct +=1\n",
    "    if total_seen % 1000 == 0:\n",
    "      print(\"Accuracy is\".\n",
    "      format(total_seen,float(total_correct)/float(total_seen)))\n",
    "      return float(total_correct)/float(total_seen)"
   ]
  },
  {
   "cell_type": "code",
   "execution_count": null,
   "metadata": {
    "id": "wwjH7-2nsWE5"
   },
   "outputs": [],
   "source": [
    "print(evaluate_model(interpreter_16x8))"
   ]
  },
  {
   "cell_type": "code",
   "execution_count": null,
   "metadata": {
    "id": "uO0E9Y9mtDeG"
   },
   "outputs": [],
   "source": [
    "def get_gzipped_model_size(file):\n",
    "  # It returns the size of the gzipped model in bytes.\n",
    "  import os\n",
    "  import zipfile\n",
    "\n",
    "  _, zipped_file = tempfile.mkstemp('.zip')\n",
    "  with zipfile.ZipFile(zipped_file, 'w', compression=zipfile.ZIP_DEFLATED) as f:\n",
    "    f.write(file)\n",
    "\n",
    "  return os.path.getsize(zipped_file)"
   ]
  },
  {
   "cell_type": "code",
   "execution_count": null,
   "metadata": {
    "id": "N0xXay-XtXt5"
   },
   "outputs": [],
   "source": [
    "print('Saved 16x8 quantised model model to:', tflite_model_16x8_file)\n",
    "print('Size of 16x8 quant file model: %.2f bytes' % (get_gzipped_model_size(tflite_model_16x8_file)))"
   ]
  }
 ],
 "metadata": {
  "accelerator": "GPU",
  "colab": {
   "collapsed_sections": [],
   "machine_shape": "hm",
   "name": "3_Q1_C.ipynb",
   "provenance": []
  },
  "kernelspec": {
   "display_name": "Python 3",
   "language": "python",
   "name": "python3"
  },
  "language_info": {
   "codemirror_mode": {
    "name": "ipython",
    "version": 3
   },
   "file_extension": ".py",
   "mimetype": "text/x-python",
   "name": "python",
   "nbconvert_exporter": "python",
   "pygments_lexer": "ipython3",
   "version": "3.8.5"
  }
 },
 "nbformat": 4,
 "nbformat_minor": 1
}
