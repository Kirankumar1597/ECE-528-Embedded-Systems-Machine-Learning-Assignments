{
 "cells": [
  {
   "cell_type": "code",
   "execution_count": null,
   "metadata": {
    "id": "m0bM6qxDDcL4"
   },
   "outputs": [],
   "source": [
    "import tensorflow as tf\n",
    "import numpy as np\n",
    "import pandas as pd\n",
    "import matplotlib.pyplot as plt\n",
    "from tensorflow import keras\n",
    "import os\n",
    "import zipfile\n",
    "import tempfile\n",
    "import math\n",
    "import pathlib"
   ]
  },
  {
   "cell_type": "code",
   "execution_count": null,
   "metadata": {
    "colab": {
     "base_uri": "https://localhost:8080/"
    },
    "id": "TPnuUVM2EPBl",
    "outputId": "343b5cee-f934-4120-f87d-2f1cc7e86b9e"
   },
   "outputs": [
    {
     "name": "stdout",
     "output_type": "stream",
     "text": [
      "Drive already mounted at /drive; to attempt to forcibly remount, call drive.mount(\"/drive\", force_remount=True).\n"
     ]
    }
   ],
   "source": [
    "from google.colab import drive\n",
    "drive.mount ('/drive')"
   ]
  },
  {
   "cell_type": "code",
   "execution_count": null,
   "metadata": {
    "id": "gk3ZFCkCEO_L"
   },
   "outputs": [],
   "source": [
    "train = pd.read_csv('/drive/My Drive/sign_mnist_train.csv')\n",
    "test = pd.read_csv('/drive/My Drive/sign_mnist_test.csv')"
   ]
  },
  {
   "cell_type": "code",
   "execution_count": null,
   "metadata": {
    "id": "s33qX04vEOoc"
   },
   "outputs": [],
   "source": [
    "x_train = train.drop(['pixel1'], axis=1).values\n",
    "y_train = train['label'].values\n",
    "x_test = test.drop(['pixel1'], axis=1).values\n",
    "y_test = test['label'].values\n",
    "x_train = x_train / 255\n",
    "x_test = x_test / 255"
   ]
  },
  {
   "cell_type": "code",
   "execution_count": null,
   "metadata": {
    "id": "N42BG6jJEOYo"
   },
   "outputs": [],
   "source": [
    "x_train = np.array(x_train)\n",
    "x_test = np.array(x_test)\n",
    "x_train = x_train.reshape(x_train.shape[0],28,28,1)\n",
    "x_test = x_test.reshape(x_test.shape[0],28,28,1)"
   ]
  },
  {
   "cell_type": "code",
   "execution_count": null,
   "metadata": {
    "id": "nUwizorzEeSz"
   },
   "outputs": [],
   "source": [
    "model = keras.Sequential([\n",
    "        keras.layers.InputLayer(input_shape=(28, 28, 1)),\n",
    "        keras.layers.Reshape(target_shape=(28, 28, 1)),\n",
    "        keras.layers.Conv2D(filters=16, kernel_size=(3,3), activation=tf.nn.relu, padding='same'),\n",
    "        \n",
    "        keras.layers.Conv2D(filters=32, kernel_size=(6,6), activation=tf.nn.relu, padding='same'),\n",
    "        \n",
    "        keras.layers.Conv2D(filters=64, kernel_size=(12,12), activation=tf.nn.relu, padding='same'),\n",
    "\n",
    "        keras.layers.MaxPooling2D(pool_size=(2,2)),\n",
    "        keras.layers.Flatten(),\n",
    "        keras.layers.Dense(1024, activation='relu'),\n",
    "        keras.layers.Dropout(0.20),\n",
    "        keras.layers.Dense(25, activation='softmax')                  \n",
    "])"
   ]
  },
  {
   "cell_type": "code",
   "execution_count": null,
   "metadata": {
    "id": "gHGMWdR4EiDT"
   },
   "outputs": [],
   "source": [
    "model.compile(optimizer='adam',\n",
    "          loss='sparse_categorical_crossentropy',\n",
    "          metrics=['accuracy'])"
   ]
  },
  {
   "cell_type": "code",
   "execution_count": null,
   "metadata": {
    "colab": {
     "base_uri": "https://localhost:8080/"
    },
    "id": "40ow2iMSElFL",
    "outputId": "16ed9dc3-a42d-4a9d-b7eb-2cce2aac69ce"
   },
   "outputs": [
    {
     "name": "stdout",
     "output_type": "stream",
     "text": [
      "Epoch 1/10\n",
      "858/858 [==============================] - 7s 8ms/step - loss: 0.5174 - accuracy: 0.8402 - val_loss: 0.2403 - val_accuracy: 0.9269\n",
      "Epoch 2/10\n",
      "858/858 [==============================] - 7s 8ms/step - loss: 0.0101 - accuracy: 0.9971 - val_loss: 0.1961 - val_accuracy: 0.9426\n",
      "Epoch 3/10\n",
      "858/858 [==============================] - 7s 8ms/step - loss: 0.0280 - accuracy: 0.9921 - val_loss: 0.4933 - val_accuracy: 0.8970\n",
      "Epoch 4/10\n",
      "858/858 [==============================] - 7s 8ms/step - loss: 0.0085 - accuracy: 0.9978 - val_loss: 0.3009 - val_accuracy: 0.9387\n",
      "Epoch 5/10\n",
      "858/858 [==============================] - 7s 8ms/step - loss: 0.0053 - accuracy: 0.9984 - val_loss: 0.3442 - val_accuracy: 0.9416\n",
      "Epoch 6/10\n",
      "858/858 [==============================] - 7s 8ms/step - loss: 0.0068 - accuracy: 0.9986 - val_loss: 0.3380 - val_accuracy: 0.9420\n",
      "Epoch 7/10\n",
      "858/858 [==============================] - 7s 8ms/step - loss: 1.8535e-05 - accuracy: 1.0000 - val_loss: 0.3313 - val_accuracy: 0.9463\n",
      "Epoch 8/10\n",
      "858/858 [==============================] - 7s 8ms/step - loss: 8.0592e-06 - accuracy: 1.0000 - val_loss: 0.3541 - val_accuracy: 0.9448\n",
      "Epoch 9/10\n",
      "858/858 [==============================] - 7s 8ms/step - loss: 2.8590e-06 - accuracy: 1.0000 - val_loss: 0.3591 - val_accuracy: 0.9455\n",
      "Epoch 10/10\n",
      "858/858 [==============================] - 7s 8ms/step - loss: 0.0301 - accuracy: 0.9926 - val_loss: 0.4006 - val_accuracy: 0.9240\n"
     ]
    },
    {
     "data": {
      "text/plain": [
       "<keras.callbacks.History at 0x7ff47dda5550>"
      ]
     },
     "execution_count": 29,
     "metadata": {},
     "output_type": "execute_result"
    }
   ],
   "source": [
    "model.fit(x_train, y_train, epochs=10,validation_data=(x_test, y_test))"
   ]
  },
  {
   "cell_type": "code",
   "execution_count": null,
   "metadata": {
    "colab": {
     "base_uri": "https://localhost:8080/"
    },
    "id": "ms12lUSpEnyZ",
    "outputId": "a5522b4c-c3bf-467e-9398-d4dfac83604b"
   },
   "outputs": [
    {
     "name": "stdout",
     "output_type": "stream",
     "text": [
      "Model: \"sequential_1\"\n",
      "_________________________________________________________________\n",
      "Layer (type)                 Output Shape              Param #   \n",
      "=================================================================\n",
      "reshape_1 (Reshape)          (None, 28, 28, 1)         0         \n",
      "_________________________________________________________________\n",
      "conv2d_3 (Conv2D)            (None, 28, 28, 16)        160       \n",
      "_________________________________________________________________\n",
      "conv2d_4 (Conv2D)            (None, 28, 28, 32)        18464     \n",
      "_________________________________________________________________\n",
      "conv2d_5 (Conv2D)            (None, 28, 28, 64)        294976    \n",
      "_________________________________________________________________\n",
      "max_pooling2d_1 (MaxPooling2 (None, 14, 14, 64)        0         \n",
      "_________________________________________________________________\n",
      "flatten_1 (Flatten)          (None, 12544)             0         \n",
      "_________________________________________________________________\n",
      "dense_2 (Dense)              (None, 1024)              12846080  \n",
      "_________________________________________________________________\n",
      "dropout_1 (Dropout)          (None, 1024)              0         \n",
      "_________________________________________________________________\n",
      "dense_3 (Dense)              (None, 25)                25625     \n",
      "=================================================================\n",
      "Total params: 13,185,305\n",
      "Trainable params: 13,185,305\n",
      "Non-trainable params: 0\n",
      "_________________________________________________________________\n"
     ]
    }
   ],
   "source": [
    "model.summary()"
   ]
  },
  {
   "cell_type": "code",
   "execution_count": null,
   "metadata": {
    "colab": {
     "base_uri": "https://localhost:8080/"
    },
    "id": "E5O8YrO5Eqdk",
    "outputId": "b66f3085-e3cf-4dfa-f145-e69130066054"
   },
   "outputs": [
    {
     "name": "stdout",
     "output_type": "stream",
     "text": [
      "225/225 - 1s - loss: 0.4006 - accuracy: 0.9240\n",
      "\n",
      "Test accuracy: 0.9240100383758545\n"
     ]
    }
   ],
   "source": [
    "test_loss, test_acc = model.evaluate(x_test,  y_test, verbose=2)\n",
    "print('\\nTest accuracy:', test_acc)"
   ]
  },
  {
   "cell_type": "code",
   "execution_count": null,
   "metadata": {
    "id": "epmm8GYOGY3T"
   },
   "outputs": [],
   "source": [
    "pip install -q tensorflow-model-optimization"
   ]
  },
  {
   "cell_type": "code",
   "execution_count": null,
   "metadata": {
    "colab": {
     "base_uri": "https://localhost:8080/"
    },
    "id": "Qm7Zkt7WEqbB",
    "outputId": "88759019-fd29-4ded-81c6-576a404a4ca9"
   },
   "outputs": [
    {
     "name": "stdout",
     "output_type": "stream",
     "text": [
      "Model: \"sequential_1\"\n",
      "_________________________________________________________________\n",
      "Layer (type)                 Output Shape              Param #   \n",
      "=================================================================\n",
      "quantize_layer_2 (QuantizeLa (None, 28, 28, 1)         3         \n",
      "_________________________________________________________________\n",
      "quant_reshape_1 (QuantizeWra (None, 28, 28, 1)         1         \n",
      "_________________________________________________________________\n",
      "quant_conv2d_3 (QuantizeWrap (None, 28, 28, 16)        195       \n",
      "_________________________________________________________________\n",
      "quant_conv2d_4 (QuantizeWrap (None, 28, 28, 32)        18531     \n",
      "_________________________________________________________________\n",
      "quant_conv2d_5 (QuantizeWrap (None, 28, 28, 64)        295107    \n",
      "_________________________________________________________________\n",
      "quant_max_pooling2d_1 (Quant (None, 14, 14, 64)        1         \n",
      "_________________________________________________________________\n",
      "quant_flatten_1 (QuantizeWra (None, 12544)             1         \n",
      "_________________________________________________________________\n",
      "quant_dense_2 (QuantizeWrapp (None, 1024)              12846085  \n",
      "_________________________________________________________________\n",
      "quant_dropout_1 (QuantizeWra (None, 1024)              1         \n",
      "_________________________________________________________________\n",
      "quant_dense_3 (QuantizeWrapp (None, 25)                25630     \n",
      "=================================================================\n",
      "Total params: 13,185,555\n",
      "Trainable params: 13,185,305\n",
      "Non-trainable params: 250\n",
      "_________________________________________________________________\n"
     ]
    }
   ],
   "source": [
    "import tensorflow_model_optimization as tfmot\n",
    "\n",
    "quantize_model = tfmot.quantization.keras.quantize_model\n",
    "\n",
    "# q_aware stands for for quantization aware.\n",
    "q_aware_model = quantize_model(model)\n",
    "\n",
    "# `quantize_model` requires a recompile.\n",
    "q_aware_model.compile(optimizer='adam',\n",
    "              loss=tf.keras.losses.SparseCategoricalCrossentropy(from_logits=True),\n",
    "              metrics=['accuracy'])\n",
    "\n",
    "q_aware_model.summary()"
   ]
  },
  {
   "cell_type": "code",
   "execution_count": null,
   "metadata": {
    "colab": {
     "base_uri": "https://localhost:8080/"
    },
    "id": "aNAJgDyTGqV8",
    "outputId": "930c9d27-7a81-4fdb-ea92-dc8cefdc808b"
   },
   "outputs": [
    {
     "name": "stderr",
     "output_type": "stream",
     "text": [
      "/usr/local/lib/python3.7/dist-packages/keras/backend.py:4907: UserWarning: \"`sparse_categorical_crossentropy` received `from_logits=True`, but the `output` argument was produced by a sigmoid or softmax activation and thus does not represent logits. Was this intended?\"\n",
      "  '\"`sparse_categorical_crossentropy` received `from_logits=True`, but '\n"
     ]
    },
    {
     "name": "stdout",
     "output_type": "stream",
     "text": [
      "2/2 [==============================] - 1s 268ms/step - loss: 0.2571 - accuracy: 0.9011 - val_loss: 0.0811 - val_accuracy: 1.0000\n"
     ]
    },
    {
     "data": {
      "text/plain": [
       "<keras.callbacks.History at 0x7ff47de64e90>"
      ]
     },
     "execution_count": 34,
     "metadata": {},
     "output_type": "execute_result"
    }
   ],
   "source": [
    "train_images_subset = x_train[0:1000] # out of 60000\n",
    "train_labels_subset = y_train[0:1000]\n",
    "\n",
    "q_aware_model.fit(train_images_subset, train_labels_subset,\n",
    "                  batch_size=500, epochs=1, validation_split=0.1)"
   ]
  },
  {
   "cell_type": "code",
   "execution_count": null,
   "metadata": {
    "colab": {
     "base_uri": "https://localhost:8080/"
    },
    "id": "DZjBndjrG10E",
    "outputId": "b7433975-43ac-4988-a533-6e15aa7ce619"
   },
   "outputs": [
    {
     "name": "stdout",
     "output_type": "stream",
     "text": [
      "Baseline test accuracy: 0.9240100383758545\n",
      "Quant test accuracy: 0.8825989961624146\n"
     ]
    }
   ],
   "source": [
    "_, baseline_model_accuracy = model.evaluate(\n",
    "    x_test, y_test, verbose=0)\n",
    "\n",
    "_, q_aware_model_accuracy = q_aware_model.evaluate(\n",
    "   x_test, y_test, verbose=0)\n",
    "\n",
    "print('Baseline test accuracy:', baseline_model_accuracy)\n",
    "print('Quant test accuracy:', q_aware_model_accuracy)"
   ]
  },
  {
   "cell_type": "code",
   "execution_count": null,
   "metadata": {
    "colab": {
     "base_uri": "https://localhost:8080/"
    },
    "id": "Aoi_pf2pHNMi",
    "outputId": "4f3a6fd1-9c9b-4b10-89b4-badef5b8f1ed"
   },
   "outputs": [
    {
     "name": "stderr",
     "output_type": "stream",
     "text": [
      "WARNING:absl:Found untraced functions such as reshape_1_layer_call_fn, reshape_1_layer_call_and_return_conditional_losses, conv2d_3_layer_call_fn, conv2d_3_layer_call_and_return_conditional_losses, conv2d_4_layer_call_fn while saving (showing 5 of 40). These functions will not be directly callable after loading.\n"
     ]
    },
    {
     "name": "stdout",
     "output_type": "stream",
     "text": [
      "INFO:tensorflow:Assets written to: /tmp/tmpbpl8_s7r/assets\n"
     ]
    },
    {
     "name": "stderr",
     "output_type": "stream",
     "text": [
      "INFO:tensorflow:Assets written to: /tmp/tmpbpl8_s7r/assets\n"
     ]
    }
   ],
   "source": [
    "converter = tf.lite.TFLiteConverter.from_keras_model(q_aware_model)\n",
    "converter.optimizations = [tf.lite.Optimize.DEFAULT]\n",
    "\n",
    "quantized_tflite_model = converter.convert()"
   ]
  },
  {
   "cell_type": "code",
   "execution_count": null,
   "metadata": {
    "id": "3lpd3nAdHTGP"
   },
   "outputs": [],
   "source": [
    "import numpy as np\n",
    "\n",
    "def evaluate_model(interpreter):\n",
    "  input_index = interpreter.get_input_details()[0][\"index\"]\n",
    "  output_index = interpreter.get_output_details()[0][\"index\"]\n",
    "\n",
    "  # Run predictions on every image in the \"test\" dataset.\n",
    "  prediction_digits = []\n",
    "  for i, test_image in enumerate(x_test):\n",
    "    if i % 1000 == 0:\n",
    "      print('Evaluated on {n} results so far.'.format(n=i))\n",
    "    # Pre-processing: add batch dimension and convert to float32 to match with\n",
    "    # the model's input data format.\n",
    "    test_image = np.expand_dims(test_image, axis=0).astype(np.float32)\n",
    "    interpreter.set_tensor(input_index, test_image)\n",
    "\n",
    "    # Run inference.\n",
    "    interpreter.invoke()\n",
    "\n",
    "    # Post-processing: remove batch dimension and find the digit with highest\n",
    "    # probability.\n",
    "    output = interpreter.tensor(output_index)\n",
    "    digit = np.argmax(output()[0])\n",
    "    prediction_digits.append(digit)\n",
    "\n",
    "  print('\\n')\n",
    "  # Compare prediction results with ground truth labels to calculate accuracy.\n",
    "  prediction_digits = np.array(prediction_digits)\n",
    "  accuracy = (prediction_digits == y_test).mean()\n",
    "  return accuracy"
   ]
  },
  {
   "cell_type": "code",
   "execution_count": null,
   "metadata": {
    "colab": {
     "base_uri": "https://localhost:8080/"
    },
    "id": "fvOHJfgCHkWq",
    "outputId": "c7161ce3-2b71-4210-bda4-3f5ae7c190f4"
   },
   "outputs": [
    {
     "name": "stdout",
     "output_type": "stream",
     "text": [
      "Evaluated on 0 results so far.\n",
      "Evaluated on 1000 results so far.\n",
      "Evaluated on 2000 results so far.\n",
      "Evaluated on 3000 results so far.\n",
      "Evaluated on 4000 results so far.\n",
      "Evaluated on 5000 results so far.\n",
      "Evaluated on 6000 results so far.\n",
      "Evaluated on 7000 results so far.\n",
      "\n",
      "\n",
      "Quant TFLite test_accuracy: 0.8830172894590073\n",
      "Quant TF test accuracy: 0.8825989961624146\n"
     ]
    }
   ],
   "source": [
    "interpreter = tf.lite.Interpreter(model_content=quantized_tflite_model)\n",
    "interpreter.allocate_tensors()\n",
    "\n",
    "test_accuracy = evaluate_model(interpreter)\n",
    "\n",
    "print('Quant TFLite test_accuracy:', test_accuracy)\n",
    "print('Quant TF test accuracy:', q_aware_model_accuracy)"
   ]
  },
  {
   "cell_type": "code",
   "execution_count": null,
   "metadata": {
    "id": "ciNHcLKjkMiX"
   },
   "outputs": [],
   "source": []
  }
 ],
 "metadata": {
  "accelerator": "GPU",
  "colab": {
   "collapsed_sections": [],
   "name": "3_Q1_D.ipynb",
   "provenance": []
  },
  "kernelspec": {
   "display_name": "Python 3",
   "language": "python",
   "name": "python3"
  },
  "language_info": {
   "codemirror_mode": {
    "name": "ipython",
    "version": 3
   },
   "file_extension": ".py",
   "mimetype": "text/x-python",
   "name": "python",
   "nbconvert_exporter": "python",
   "pygments_lexer": "ipython3",
   "version": "3.8.5"
  }
 },
 "nbformat": 4,
 "nbformat_minor": 1
}
