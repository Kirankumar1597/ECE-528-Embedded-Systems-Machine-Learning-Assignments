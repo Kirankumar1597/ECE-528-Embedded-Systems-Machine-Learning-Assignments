{
 "cells": [
  {
   "cell_type": "code",
   "execution_count": 1,
   "metadata": {
    "id": "4Qrj7a-Hut5i"
   },
   "outputs": [],
   "source": [
    "# Load the TensorBoard notebook extension\n",
    "%load_ext tensorboard"
   ]
  },
  {
   "cell_type": "code",
   "execution_count": 2,
   "metadata": {
    "id": "ygwhHctwu-g2"
   },
   "outputs": [],
   "source": [
    "# Clear any logs from previous runs\n",
    "!rm -rf ./logs/"
   ]
  },
  {
   "cell_type": "code",
   "execution_count": 3,
   "metadata": {
    "id": "_a0h_LulvCby"
   },
   "outputs": [],
   "source": [
    "import tensorflow as tf\n",
    "from tensorboard.plugins.hparams import api as hp\n",
    "from tensorflow.keras import datasets, layers, models\n",
    "from tensorflow import keras"
   ]
  },
  {
   "cell_type": "code",
   "execution_count": 4,
   "metadata": {
    "colab": {
     "base_uri": "https://localhost:8080/"
    },
    "id": "pAmUb-bAvJJM",
    "outputId": "739beadb-2b2e-4f80-822e-b80e14b0286e"
   },
   "outputs": [
    {
     "name": "stdout",
     "output_type": "stream",
     "text": [
      "Downloading data from https://storage.googleapis.com/tensorflow/tf-keras-datasets/train-labels-idx1-ubyte.gz\n",
      "32768/29515 [=================================] - 0s 0us/step\n",
      "40960/29515 [=========================================] - 0s 0us/step\n",
      "Downloading data from https://storage.googleapis.com/tensorflow/tf-keras-datasets/train-images-idx3-ubyte.gz\n",
      "26427392/26421880 [==============================] - 0s 0us/step\n",
      "26435584/26421880 [==============================] - 0s 0us/step\n",
      "Downloading data from https://storage.googleapis.com/tensorflow/tf-keras-datasets/t10k-labels-idx1-ubyte.gz\n",
      "16384/5148 [===============================================================================================] - 0s 0us/step\n",
      "Downloading data from https://storage.googleapis.com/tensorflow/tf-keras-datasets/t10k-images-idx3-ubyte.gz\n",
      "4423680/4422102 [==============================] - 0s 0us/step\n",
      "4431872/4422102 [==============================] - 0s 0us/step\n"
     ]
    }
   ],
   "source": [
    "fashion_mnist = tf.keras.datasets.fashion_mnist\n",
    "(x_train, y_train),(x_test, y_test) = fashion_mnist.load_data()\n",
    "x_train, x_test = x_train / 255.0, x_test / 255.0"
   ]
  },
  {
   "cell_type": "code",
   "execution_count": 5,
   "metadata": {
    "id": "hTz1h3_JvWUM"
   },
   "outputs": [],
   "source": [
    "HP_OPTIMIZER= hp.HParam('optimizer', hp.Discrete(['Adam','SGD','Adadelta','Adagrad','Adamax', 'Ftrl','Nadam','RMSprop']))\n",
    "METRIC_ACCURACY = 'accuracy'\n",
    "with tf.summary.create_file_writer('logs/hparam_tuning').as_default():\n",
    "  hp.hparams_config(hparams=[HP_OPTIMIZER], metrics=[hp.Metric(METRIC_ACCURACY, display_name='Accuracy')])"
   ]
  },
  {
   "cell_type": "code",
   "execution_count": 6,
   "metadata": {
    "id": "NmjxBcTzwEY8"
   },
   "outputs": [],
   "source": [
    "#reshape inputs for CNN layers\n",
    "x_train = x_train.reshape(x_train.shape[0], 28,28, 1)\n",
    "x_test = x_test.reshape(x_test.shape[0], 28,28,1)"
   ]
  },
  {
   "cell_type": "code",
   "execution_count": 7,
   "metadata": {
    "id": "QTtliSF1wMZX"
   },
   "outputs": [],
   "source": [
    "# Setting up Model\n",
    "def train_test_model(hparams):\n",
    "    model = tf.keras.models.Sequential([\n",
    "                                        tf.keras.layers.Conv2D(kernel_size=3, filters=12, activation= 'relu', padding='same', input_shape= (28,28,1)),\n",
    "                                        tf.keras.layers.BatchNormalization(center = True, scale= False),\n",
    "                                        tf.keras.layers.Conv2D(kernel_size=6, filters=12, activation= 'relu', padding='same', strides= 2 ),\n",
    "                                        tf.keras.layers.BatchNormalization(center = True, scale= False),\n",
    "                                        tf.keras.layers.Conv2D(kernel_size=6, filters=12, activation= 'relu', padding='same', strides= 2 ),\n",
    "                                        tf.keras.layers.BatchNormalization(center = True, scale= False),\n",
    "                                        tf.keras.layers.Flatten(),\n",
    "                                        tf.keras.layers.Dense(200, activation = 'relu'),\n",
    "                                        tf.keras.layers.Dropout(0.25),\n",
    "                                        tf.keras.layers.Dense(100, activation = 'relu'),\n",
    "                                        tf.keras.layers.Dropout(0.25),\n",
    "                                        tf.keras.layers.Dense(60, activation = 'relu'),\n",
    "                                        tf.keras.layers.Dropout(0.25),\n",
    "                                        tf.keras.layers.Dense(10, activation = 'softmax')\n",
    "    ])\n",
    "    # Compile the model\n",
    "    model.compile(optimizer = hparams[HP_OPTIMIZER], loss='sparse_categorical_crossentropy', metrics=['accuracy'])\n",
    "    \n",
    "    model.fit(x_train, y_train, epochs=5)\n",
    "    _, accuracy = model.evaluate(x_test, y_test)\n",
    "    return accuracy"
   ]
  },
  {
   "cell_type": "code",
   "execution_count": 8,
   "metadata": {
    "id": "bf_fvzKLwoYp"
   },
   "outputs": [],
   "source": [
    "accuracy_values=[]\n",
    "def run(run_dir, hparams):\n",
    "  with tf.summary.create_file_writer(run_dir).as_default():\n",
    "    hp.hparams(hparams)  # record the values used in this trial\n",
    "    accuracy = train_test_model(hparams)\n",
    "    tf.summary.scalar(METRIC_ACCURACY, accuracy, step=1)\n",
    "    accuracy_values.append(accuracy)"
   ]
  },
  {
   "cell_type": "code",
   "execution_count": 9,
   "metadata": {
    "colab": {
     "base_uri": "https://localhost:8080/"
    },
    "id": "AEual0Lfw0yn",
    "outputId": "2d8f96d8-5a5b-46df-de2a-d2ffdc370623"
   },
   "outputs": [
    {
     "name": "stdout",
     "output_type": "stream",
     "text": [
      "--- Starting trial: run-0\n",
      "{'optimizer': 'Adadelta'}\n",
      "Epoch 1/5\n",
      "1875/1875 [==============================] - 26s 5ms/step - loss: 2.7312 - accuracy: 0.1123\n",
      "Epoch 2/5\n",
      "1875/1875 [==============================] - 9s 5ms/step - loss: 2.4276 - accuracy: 0.1501\n",
      "Epoch 3/5\n",
      "1875/1875 [==============================] - 9s 5ms/step - loss: 2.2451 - accuracy: 0.1978\n",
      "Epoch 4/5\n",
      "1875/1875 [==============================] - 9s 5ms/step - loss: 2.0979 - accuracy: 0.2527\n",
      "Epoch 5/5\n",
      "1875/1875 [==============================] - 9s 5ms/step - loss: 1.9656 - accuracy: 0.3075\n",
      "313/313 [==============================] - 1s 3ms/step - loss: 1.6501 - accuracy: 0.5502\n",
      "--- Starting trial: run-1\n",
      "{'optimizer': 'Adagrad'}\n",
      "Epoch 1/5\n",
      "1875/1875 [==============================] - 9s 4ms/step - loss: 1.2436 - accuracy: 0.5588\n",
      "Epoch 2/5\n",
      "1875/1875 [==============================] - 9s 5ms/step - loss: 0.8039 - accuracy: 0.7132\n",
      "Epoch 3/5\n",
      "1875/1875 [==============================] - 9s 5ms/step - loss: 0.7102 - accuracy: 0.7484\n",
      "Epoch 4/5\n",
      "1875/1875 [==============================] - 9s 5ms/step - loss: 0.6486 - accuracy: 0.7714\n",
      "Epoch 5/5\n",
      "1875/1875 [==============================] - 9s 5ms/step - loss: 0.6175 - accuracy: 0.7841\n",
      "313/313 [==============================] - 1s 3ms/step - loss: 0.4718 - accuracy: 0.8283\n",
      "--- Starting trial: run-2\n",
      "{'optimizer': 'Adam'}\n",
      "Epoch 1/5\n",
      "1875/1875 [==============================] - 9s 5ms/step - loss: 0.5380 - accuracy: 0.8129\n",
      "Epoch 2/5\n",
      "1875/1875 [==============================] - 9s 5ms/step - loss: 0.3529 - accuracy: 0.8773\n",
      "Epoch 3/5\n",
      "1875/1875 [==============================] - 8s 5ms/step - loss: 0.3072 - accuracy: 0.8933\n",
      "Epoch 4/5\n",
      "1875/1875 [==============================] - 9s 5ms/step - loss: 0.2788 - accuracy: 0.9018\n",
      "Epoch 5/5\n",
      "1875/1875 [==============================] - 9s 5ms/step - loss: 0.2565 - accuracy: 0.9098\n",
      "313/313 [==============================] - 1s 3ms/step - loss: 0.2770 - accuracy: 0.8978\n",
      "--- Starting trial: run-3\n",
      "{'optimizer': 'Adamax'}\n",
      "Epoch 1/5\n",
      "1875/1875 [==============================] - 10s 5ms/step - loss: 0.6637 - accuracy: 0.7722\n",
      "Epoch 2/5\n",
      "1875/1875 [==============================] - 9s 5ms/step - loss: 0.4113 - accuracy: 0.8591\n",
      "Epoch 3/5\n",
      "1875/1875 [==============================] - 9s 5ms/step - loss: 0.3478 - accuracy: 0.8796\n",
      "Epoch 4/5\n",
      "1875/1875 [==============================] - 9s 5ms/step - loss: 0.3096 - accuracy: 0.8923\n",
      "Epoch 5/5\n",
      "1875/1875 [==============================] - 9s 5ms/step - loss: 0.2832 - accuracy: 0.9006\n",
      "313/313 [==============================] - 1s 3ms/step - loss: 0.2816 - accuracy: 0.8996\n",
      "--- Starting trial: run-4\n",
      "{'optimizer': 'Ftrl'}\n",
      "Epoch 1/5\n",
      "1875/1875 [==============================] - 10s 5ms/step - loss: 2.3029 - accuracy: 0.0983\n",
      "Epoch 2/5\n",
      "1875/1875 [==============================] - 10s 5ms/step - loss: 2.3026 - accuracy: 0.0984\n",
      "Epoch 3/5\n",
      "1875/1875 [==============================] - 10s 5ms/step - loss: 2.3026 - accuracy: 0.0993\n",
      "Epoch 4/5\n",
      "1875/1875 [==============================] - 10s 5ms/step - loss: 2.3026 - accuracy: 0.0991\n",
      "Epoch 5/5\n",
      "1875/1875 [==============================] - 10s 5ms/step - loss: 2.3026 - accuracy: 0.0997\n",
      "313/313 [==============================] - 1s 3ms/step - loss: 2.3026 - accuracy: 0.1000\n",
      "--- Starting trial: run-5\n",
      "{'optimizer': 'Nadam'}\n",
      "Epoch 1/5\n",
      "1875/1875 [==============================] - 15s 7ms/step - loss: 0.5234 - accuracy: 0.8161\n",
      "Epoch 2/5\n",
      "1875/1875 [==============================] - 13s 7ms/step - loss: 0.3378 - accuracy: 0.8820\n",
      "Epoch 3/5\n",
      "1875/1875 [==============================] - 13s 7ms/step - loss: 0.2927 - accuracy: 0.8962\n",
      "Epoch 4/5\n",
      "1875/1875 [==============================] - 14s 7ms/step - loss: 0.2665 - accuracy: 0.9061\n",
      "Epoch 5/5\n",
      "1875/1875 [==============================] - 13s 7ms/step - loss: 0.2456 - accuracy: 0.9111\n",
      "313/313 [==============================] - 1s 3ms/step - loss: 0.2745 - accuracy: 0.9025\n",
      "--- Starting trial: run-6\n",
      "{'optimizer': 'RMSprop'}\n",
      "Epoch 1/5\n",
      "1875/1875 [==============================] - 12s 6ms/step - loss: 0.5383 - accuracy: 0.8157\n",
      "Epoch 2/5\n",
      "1875/1875 [==============================] - 11s 6ms/step - loss: 0.4009 - accuracy: 0.8684\n",
      "Epoch 3/5\n",
      "1875/1875 [==============================] - 11s 6ms/step - loss: 0.3968 - accuracy: 0.8739\n",
      "Epoch 4/5\n",
      "1875/1875 [==============================] - 11s 6ms/step - loss: 0.4088 - accuracy: 0.8719\n",
      "Epoch 5/5\n",
      "1875/1875 [==============================] - 11s 6ms/step - loss: 0.4341 - accuracy: 0.8700\n",
      "313/313 [==============================] - 1s 3ms/step - loss: 0.3724 - accuracy: 0.8859\n",
      "--- Starting trial: run-7\n",
      "{'optimizer': 'SGD'}\n",
      "Epoch 1/5\n",
      "1875/1875 [==============================] - 9s 4ms/step - loss: 0.7755 - accuracy: 0.7213\n",
      "Epoch 2/5\n",
      "1875/1875 [==============================] - 8s 4ms/step - loss: 0.4834 - accuracy: 0.8306\n",
      "Epoch 3/5\n",
      "1875/1875 [==============================] - 8s 4ms/step - loss: 0.4143 - accuracy: 0.8541\n",
      "Epoch 4/5\n",
      "1875/1875 [==============================] - 8s 4ms/step - loss: 0.3745 - accuracy: 0.8679\n",
      "Epoch 5/5\n",
      "1875/1875 [==============================] - 8s 4ms/step - loss: 0.3482 - accuracy: 0.8786\n",
      "313/313 [==============================] - 1s 3ms/step - loss: 0.3240 - accuracy: 0.8819\n"
     ]
    }
   ],
   "source": [
    "#Run the experiment for all 8 optimizers\n",
    "Num =0\n",
    "optimizers = []\n",
    "for optimizer in HP_OPTIMIZER.domain.values:\n",
    "  hparams = {HP_OPTIMIZER: optimizer}    \n",
    "  run_name = \"run-%d\" % Num   \n",
    "  print('--- Starting trial: %s' % run_name)\n",
    "  print({h.name: hparams[h] for h in hparams})\n",
    "  run('logs/hparam_tuning/' + run_name, hparams)\n",
    "  Num += 1\n",
    "  optimizers.append(optimizer)"
   ]
  },
  {
   "cell_type": "code",
   "execution_count": 10,
   "metadata": {
    "colab": {
     "base_uri": "https://localhost:8080/"
    },
    "id": "IBNuYItFw_7s",
    "outputId": "8a1fb56d-cce9-4298-a96b-8c14bf1e8c93"
   },
   "outputs": [
    {
     "name": "stdout",
     "output_type": "stream",
     "text": [
      "[0.5501999855041504, 0.8282999992370605, 0.8978000283241272, 0.8996000289916992, 0.10000000149011612, 0.9024999737739563, 0.8859000205993652, 0.8819000124931335]\n",
      "['Adadelta', 'Adagrad', 'Adam', 'Adamax', 'Ftrl', 'Nadam', 'RMSprop', 'SGD']\n"
     ]
    }
   ],
   "source": [
    "print(accuracy_values)\n",
    "print(optimizers)"
   ]
  },
  {
   "cell_type": "code",
   "execution_count": 11,
   "metadata": {
    "colab": {
     "base_uri": "https://localhost:8080/",
     "height": 295
    },
    "id": "4yXi_iu5xOeu",
    "outputId": "0425e1da-d003-459b-8a1d-10b58f335ce9"
   },
   "outputs": [
    {
     "data": {
      "image/png": "[encoded data removed]",
      "text/plain": [
       "<Figure size 432x288 with 1 Axes>"
      ]
     },
     "metadata": {
      "needs_background": "light"
     },
     "output_type": "display_data"
    }
   ],
   "source": [
    "import matplotlib.pyplot as plt\n",
    "plt.bar(optimizers, accuracy_values, color=['green', 'blue', 'black', 'red','purple', 'seagreen', 'skyblue', 'black'])\n",
    "plt.xlabel('Optimizers')\n",
    "plt.ylabel('Accuracy Values')\n",
    "plt.title('Identifying the best optimizer')\n",
    "plt.show()"
   ]
  },
  {
   "cell_type": "code",
   "execution_count": null,
   "metadata": {
    "id": "UCq36PIVz3_V"
   },
   "outputs": [],
   "source": []
  }
 ],
 "metadata": {
  "accelerator": "GPU",
  "colab": {
   "collapsed_sections": [],
   "machine_shape": "hm",
   "name": "Q2_A.ipynb",
   "provenance": []
  },
  "kernelspec": {
   "display_name": "Python 3",
   "language": "python",
   "name": "python3"
  },
  "language_info": {
   "codemirror_mode": {
    "name": "ipython",
    "version": 3
   },
   "file_extension": ".py",
   "mimetype": "text/x-python",
   "name": "python",
   "nbconvert_exporter": "python",
   "pygments_lexer": "ipython3",
   "version": "3.8.5"
  }
 },
 "nbformat": 4,
 "nbformat_minor": 1
}
